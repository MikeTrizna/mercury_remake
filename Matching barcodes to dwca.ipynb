{
 "cells": [
  {
   "cell_type": "markdown",
   "metadata": {},
   "source": [
    "## Pulling down mercury-stained sheets from NMNH DWCA"
   ]
  },
  {
   "cell_type": "markdown",
   "metadata": {},
   "source": [
    "Attempting to grab data from scratch to replicate \"Applications of deep convolutional neural networks to digitized natural history collections\" (https://www.ncbi.nlm.nih.gov/pmc/articles/PMC5680669/)"
   ]
  },
  {
   "cell_type": "code",
   "execution_count": 1,
   "metadata": {
    "ExecuteTime": {
     "end_time": "2020-09-04T22:08:06.387558Z",
     "start_time": "2020-09-04T22:08:06.382765Z"
    }
   },
   "outputs": [],
   "source": [
    "import tarfile\n",
    "import pandas as pd\n",
    "import numpy as np"
   ]
  },
  {
   "cell_type": "markdown",
   "metadata": {},
   "source": [
    "### Getting barcodes from Figshare"
   ]
  },
  {
   "cell_type": "markdown",
   "metadata": {},
   "source": [
    "First, we need to download the image bundles from Figshare in order to get their image barcodes. They are posted separately by [stained](https://smithsonian.figshare.com/articles/dataset/Mercury-stained_botany_images_for_deep_learning/5423083) and [unstained](https://smithsonian.figshare.com/articles/dataset/Unstained_botany_images_for_deep_learning/5423098) datasets."
   ]
  },
  {
   "cell_type": "code",
   "execution_count": 2,
   "metadata": {
    "ExecuteTime": {
     "end_time": "2020-09-04T21:32:02.032336Z",
     "start_time": "2020-09-04T21:31:58.415163Z"
    }
   },
   "outputs": [
    {
     "data": {
      "text/plain": [
       "['00000140', '00000162', '00000185', '00000209', '00000231']"
      ]
     },
     "execution_count": 2,
     "metadata": {},
     "output_type": "execute_result"
    }
   ],
   "source": [
    "stained_barcodes = []\n",
    "with tarfile.open(\"stained.tar.gz\", \"r:gz\") as tar:\n",
    "    for filename in tar.getnames():\n",
    "        if filename.endswith('.jpg'):\n",
    "            barcode = filename.split('/')[1].split('.')[0]\n",
    "            stained_barcodes.append(barcode)\n",
    "stained_barcodes[:5]"
   ]
  },
  {
   "cell_type": "code",
   "execution_count": 3,
   "metadata": {
    "ExecuteTime": {
     "end_time": "2020-09-04T21:33:34.196738Z",
     "start_time": "2020-09-04T21:33:29.821947Z"
    }
   },
   "outputs": [
    {
     "data": {
      "text/plain": [
       "['00000001', '00000003', '00000015', '00000020', '00000021']"
      ]
     },
     "execution_count": 3,
     "metadata": {},
     "output_type": "execute_result"
    }
   ],
   "source": [
    "unstained_barcodes = []\n",
    "with tarfile.open(\"unstained.tar.gz\", \"r:gz\") as tar:\n",
    "    for filename in tar.getnames():\n",
    "        if filename.endswith('.jpg'):\n",
    "            barcode = filename.split('/')[1].split('.')[0]\n",
    "            unstained_barcodes.append(barcode)\n",
    "unstained_barcodes[:5]"
   ]
  },
  {
   "cell_type": "code",
   "execution_count": 66,
   "metadata": {},
   "outputs": [
    {
     "data": {
      "text/html": [
       "<div>\n",
       "<style scoped>\n",
       "    .dataframe tbody tr th:only-of-type {\n",
       "        vertical-align: middle;\n",
       "    }\n",
       "\n",
       "    .dataframe tbody tr th {\n",
       "        vertical-align: top;\n",
       "    }\n",
       "\n",
       "    .dataframe thead th {\n",
       "        text-align: right;\n",
       "    }\n",
       "</style>\n",
       "<table border=\"1\" class=\"dataframe\">\n",
       "  <thead>\n",
       "    <tr style=\"text-align: right;\">\n",
       "      <th></th>\n",
       "      <th>barcode</th>\n",
       "      <th>stain_status</th>\n",
       "    </tr>\n",
       "  </thead>\n",
       "  <tbody>\n",
       "    <tr>\n",
       "      <th>0</th>\n",
       "      <td>00000140</td>\n",
       "      <td>stained</td>\n",
       "    </tr>\n",
       "    <tr>\n",
       "      <th>1</th>\n",
       "      <td>00000162</td>\n",
       "      <td>stained</td>\n",
       "    </tr>\n",
       "    <tr>\n",
       "      <th>2</th>\n",
       "      <td>00000185</td>\n",
       "      <td>stained</td>\n",
       "    </tr>\n",
       "    <tr>\n",
       "      <th>3</th>\n",
       "      <td>00000209</td>\n",
       "      <td>stained</td>\n",
       "    </tr>\n",
       "    <tr>\n",
       "      <th>4</th>\n",
       "      <td>00000231</td>\n",
       "      <td>stained</td>\n",
       "    </tr>\n",
       "  </tbody>\n",
       "</table>\n",
       "</div>"
      ],
      "text/plain": [
       "    barcode stain_status\n",
       "0  00000140      stained\n",
       "1  00000162      stained\n",
       "2  00000185      stained\n",
       "3  00000209      stained\n",
       "4  00000231      stained"
      ]
     },
     "execution_count": 66,
     "metadata": {},
     "output_type": "execute_result"
    }
   ],
   "source": [
    "stained_barcode_df = pd.DataFrame(stained_barcodes, columns=['barcode'])\n",
    "stained_barcode_df['stain_status'] = 'stained'\n",
    "stained_barcode_df.head()"
   ]
  },
  {
   "cell_type": "code",
   "execution_count": 67,
   "metadata": {},
   "outputs": [
    {
     "data": {
      "text/html": [
       "<div>\n",
       "<style scoped>\n",
       "    .dataframe tbody tr th:only-of-type {\n",
       "        vertical-align: middle;\n",
       "    }\n",
       "\n",
       "    .dataframe tbody tr th {\n",
       "        vertical-align: top;\n",
       "    }\n",
       "\n",
       "    .dataframe thead th {\n",
       "        text-align: right;\n",
       "    }\n",
       "</style>\n",
       "<table border=\"1\" class=\"dataframe\">\n",
       "  <thead>\n",
       "    <tr style=\"text-align: right;\">\n",
       "      <th></th>\n",
       "      <th>barcode</th>\n",
       "      <th>stain_status</th>\n",
       "    </tr>\n",
       "  </thead>\n",
       "  <tbody>\n",
       "    <tr>\n",
       "      <th>0</th>\n",
       "      <td>00000001</td>\n",
       "      <td>unstained</td>\n",
       "    </tr>\n",
       "    <tr>\n",
       "      <th>1</th>\n",
       "      <td>00000003</td>\n",
       "      <td>unstained</td>\n",
       "    </tr>\n",
       "    <tr>\n",
       "      <th>2</th>\n",
       "      <td>00000015</td>\n",
       "      <td>unstained</td>\n",
       "    </tr>\n",
       "    <tr>\n",
       "      <th>3</th>\n",
       "      <td>00000020</td>\n",
       "      <td>unstained</td>\n",
       "    </tr>\n",
       "    <tr>\n",
       "      <th>4</th>\n",
       "      <td>00000021</td>\n",
       "      <td>unstained</td>\n",
       "    </tr>\n",
       "  </tbody>\n",
       "</table>\n",
       "</div>"
      ],
      "text/plain": [
       "    barcode stain_status\n",
       "0  00000001    unstained\n",
       "1  00000003    unstained\n",
       "2  00000015    unstained\n",
       "3  00000020    unstained\n",
       "4  00000021    unstained"
      ]
     },
     "execution_count": 67,
     "metadata": {},
     "output_type": "execute_result"
    }
   ],
   "source": [
    "unstained_barcode_df = pd.DataFrame(unstained_barcodes, columns=['barcode'])\n",
    "unstained_barcode_df['stain_status'] = 'unstained'\n",
    "unstained_barcode_df.head()"
   ]
  },
  {
   "cell_type": "code",
   "execution_count": 68,
   "metadata": {},
   "outputs": [
    {
     "name": "stdout",
     "output_type": "stream",
     "text": [
      "<class 'pandas.core.frame.DataFrame'>\n",
      "Int64Index: 15553 entries, 0 to 7776\n",
      "Data columns (total 2 columns):\n",
      " #   Column        Non-Null Count  Dtype \n",
      "---  ------        --------------  ----- \n",
      " 0   barcode       15553 non-null  object\n",
      " 1   stain_status  15553 non-null  object\n",
      "dtypes: object(2)\n",
      "memory usage: 364.5+ KB\n"
     ]
    }
   ],
   "source": [
    "combined_barcode_df = pd.concat([stained_barcode_df, unstained_barcode_df])\n",
    "combined_barcode_df.info()"
   ]
  },
  {
   "cell_type": "code",
   "execution_count": 69,
   "metadata": {},
   "outputs": [
    {
     "data": {
      "text/plain": [
       "unstained    7777\n",
       "stained      7776\n",
       "Name: stain_status, dtype: int64"
      ]
     },
     "execution_count": 69,
     "metadata": {},
     "output_type": "execute_result"
    }
   ],
   "source": [
    "combined_barcode_df['stain_status'].value_counts()"
   ]
  },
  {
   "cell_type": "code",
   "execution_count": 70,
   "metadata": {},
   "outputs": [],
   "source": [
    "combined_barcode_df.to_csv('barcodes_from_figshare.tsv', index=False, sep='\\t')"
   ]
  },
  {
   "cell_type": "markdown",
   "metadata": {},
   "source": [
    "### Pulling multimedia data from NMNH DarwinCore Archive"
   ]
  },
  {
   "cell_type": "markdown",
   "metadata": {},
   "source": [
    "Here is the link to the Smithsonian NMNH IPT: https://collections.nmnh.si.edu/ipt/resource?r=nmnh_extant_dwc-a"
   ]
  },
  {
   "cell_type": "code",
   "execution_count": 48,
   "metadata": {
    "ExecuteTime": {
     "end_time": "2020-09-04T21:50:50.207885Z",
     "start_time": "2020-09-04T21:49:05.432797Z"
    }
   },
   "outputs": [
    {
     "name": "stdout",
     "output_type": "stream",
     "text": [
      "<class 'pandas.core.frame.DataFrame'>\n",
      "RangeIndex: 10357547 entries, 0 to 10357546\n",
      "Data columns (total 19 columns):\n",
      " #   Column                     Dtype   \n",
      "---  ------                     -----   \n",
      " 0   id                         object  \n",
      " 1   identifier                 object  \n",
      " 2   type                       object  \n",
      " 3   title                      object  \n",
      " 4   rights                     object  \n",
      " 5   rights.1                   object  \n",
      " 6   UsageTerms                 object  \n",
      " 7   WebStatement               object  \n",
      " 8   licenseLogoURL             object  \n",
      " 9   source                     object  \n",
      " 10  creator                    object  \n",
      " 11  providerLiteral            category\n",
      " 12  description                string  \n",
      " 13  subjectCategoryVocabulary  object  \n",
      " 14  scientificName             float64 \n",
      " 15  accessURI                  object  \n",
      " 16  format                     object  \n",
      " 17  PixelXDimension            int64   \n",
      " 18  PixelYDimension            int64   \n",
      "dtypes: category(1), float64(1), int64(2), object(14), string(1)\n",
      "memory usage: 1.4+ GB\n"
     ]
    }
   ],
   "source": [
    "multimedia_df = pd.read_csv('nmnh_multimedia_1_35.tsv.gz', \n",
    "                            dtype={'providerLiteral':'category',\n",
    "                                   'description':'string'},\n",
    "                            sep='\\t', compression='gzip')\n",
    "multimedia_df.info()"
   ]
  },
  {
   "cell_type": "code",
   "execution_count": 49,
   "metadata": {
    "ExecuteTime": {
     "end_time": "2020-09-04T21:52:01.178263Z",
     "start_time": "2020-09-04T21:52:01.027981Z"
    }
   },
   "outputs": [
    {
     "data": {
      "text/plain": [
       "Smithsonian Institution, NMNH, Botany                   9257341\n",
       "Smithsonian Institution, NMNH, Mammals                   577050\n",
       "Smithsonian Institution, NMNH, Invertebrate Zoology      184797\n",
       "Smithsonian Institution, NMNH, Entomology                167637\n",
       "Smithsonian Institution, NMNH, Fishes                    134203\n",
       "Smithsonian Institution, NMNH, Birds                      23401\n",
       "Smithsonian Institution, NMNH, Amphibians & Reptiles      13118\n",
       "Name: providerLiteral, dtype: int64"
      ]
     },
     "execution_count": 49,
     "metadata": {},
     "output_type": "execute_result"
    }
   ],
   "source": [
    "multimedia_df['providerLiteral'].value_counts()"
   ]
  },
  {
   "cell_type": "code",
   "execution_count": 50,
   "metadata": {
    "ExecuteTime": {
     "end_time": "2020-09-04T22:18:20.483463Z",
     "start_time": "2020-09-04T22:17:16.177630Z"
    }
   },
   "outputs": [
    {
     "data": {
      "text/plain": [
       "5942814"
      ]
     },
     "execution_count": 50,
     "metadata": {},
     "output_type": "execute_result"
    }
   ],
   "source": [
    "len(multimedia_df[multimedia_df.duplicated(keep='first')])"
   ]
  },
  {
   "cell_type": "markdown",
   "metadata": {},
   "source": [
    "**Uh oh, it looks like somehow a large portion of the dataset has been duplicated?**"
   ]
  },
  {
   "cell_type": "code",
   "execution_count": 51,
   "metadata": {},
   "outputs": [],
   "source": [
    "multimedia_df = multimedia_df.drop_duplicates()"
   ]
  },
  {
   "cell_type": "code",
   "execution_count": 52,
   "metadata": {},
   "outputs": [
    {
     "data": {
      "text/plain": [
       "Smithsonian Institution, NMNH, Botany                   3314799\n",
       "Smithsonian Institution, NMNH, Mammals                   577050\n",
       "Smithsonian Institution, NMNH, Invertebrate Zoology      184706\n",
       "Smithsonian Institution, NMNH, Entomology                167637\n",
       "Smithsonian Institution, NMNH, Fishes                    134193\n",
       "Smithsonian Institution, NMNH, Birds                      23401\n",
       "Smithsonian Institution, NMNH, Amphibians & Reptiles      12947\n",
       "Name: providerLiteral, dtype: int64"
      ]
     },
     "execution_count": 52,
     "metadata": {},
     "output_type": "execute_result"
    }
   ],
   "source": [
    "multimedia_df['providerLiteral'].value_counts()"
   ]
  },
  {
   "cell_type": "code",
   "execution_count": 53,
   "metadata": {
    "ExecuteTime": {
     "end_time": "2020-09-04T21:53:31.917860Z",
     "start_time": "2020-09-04T21:53:00.847798Z"
    }
   },
   "outputs": [
    {
     "name": "stdout",
     "output_type": "stream",
     "text": [
      "<class 'pandas.core.frame.DataFrame'>\n",
      "Int64Index: 3219718 entries, 1091 to 10357542\n",
      "Data columns (total 19 columns):\n",
      " #   Column                     Dtype   \n",
      "---  ------                     -----   \n",
      " 0   id                         object  \n",
      " 1   identifier                 object  \n",
      " 2   type                       object  \n",
      " 3   title                      object  \n",
      " 4   rights                     object  \n",
      " 5   rights.1                   object  \n",
      " 6   UsageTerms                 object  \n",
      " 7   WebStatement               object  \n",
      " 8   licenseLogoURL             object  \n",
      " 9   source                     object  \n",
      " 10  creator                    object  \n",
      " 11  providerLiteral            category\n",
      " 12  description                string  \n",
      " 13  subjectCategoryVocabulary  object  \n",
      " 14  scientificName             float64 \n",
      " 15  accessURI                  object  \n",
      " 16  format                     object  \n",
      " 17  PixelXDimension            int64   \n",
      " 18  PixelYDimension            int64   \n",
      "dtypes: category(1), float64(1), int64(2), object(14), string(1)\n",
      "memory usage: 469.8+ MB\n"
     ]
    }
   ],
   "source": [
    "botany_barcodes = multimedia_df[(multimedia_df['providerLiteral'] == 'Smithsonian Institution, NMNH, Botany') &\\\n",
    "                                (multimedia_df['description']).str.lower().str.contains('barcode')].copy()\n",
    "botany_barcodes.info()"
   ]
  },
  {
   "cell_type": "code",
   "execution_count": 54,
   "metadata": {
    "ExecuteTime": {
     "end_time": "2020-09-04T21:54:13.432373Z",
     "start_time": "2020-09-04T21:54:12.932679Z"
    }
   },
   "outputs": [
    {
     "data": {
      "text/html": [
       "<div>\n",
       "<style scoped>\n",
       "    .dataframe tbody tr th:only-of-type {\n",
       "        vertical-align: middle;\n",
       "    }\n",
       "\n",
       "    .dataframe tbody tr th {\n",
       "        vertical-align: top;\n",
       "    }\n",
       "\n",
       "    .dataframe thead th {\n",
       "        text-align: right;\n",
       "    }\n",
       "</style>\n",
       "<table border=\"1\" class=\"dataframe\">\n",
       "  <thead>\n",
       "    <tr style=\"text-align: right;\">\n",
       "      <th></th>\n",
       "      <th>id</th>\n",
       "      <th>identifier</th>\n",
       "      <th>type</th>\n",
       "      <th>title</th>\n",
       "      <th>rights</th>\n",
       "      <th>rights.1</th>\n",
       "      <th>UsageTerms</th>\n",
       "      <th>WebStatement</th>\n",
       "      <th>licenseLogoURL</th>\n",
       "      <th>source</th>\n",
       "      <th>creator</th>\n",
       "      <th>providerLiteral</th>\n",
       "      <th>description</th>\n",
       "      <th>subjectCategoryVocabulary</th>\n",
       "      <th>scientificName</th>\n",
       "      <th>accessURI</th>\n",
       "      <th>format</th>\n",
       "      <th>PixelXDimension</th>\n",
       "      <th>PixelYDimension</th>\n",
       "    </tr>\n",
       "  </thead>\n",
       "  <tbody>\n",
       "    <tr>\n",
       "      <th>2500654</th>\n",
       "      <td>http://n2t.net/ark:/65665/3b1e3673e-bd2d-4e25-...</td>\n",
       "      <td>http://collections.nmnh.si.edu/media/index.php...</td>\n",
       "      <td>image</td>\n",
       "      <td>01769128.tif</td>\n",
       "      <td>CC0</td>\n",
       "      <td>CC0</td>\n",
       "      <td>https://creativecommons.org/publicdomain/zero/...</td>\n",
       "      <td>https://naturalhistory.si.edu/research/nmnh-co...</td>\n",
       "      <td>https://www.si.edu/sites/default/files/icons/c...</td>\n",
       "      <td>US National Herbarium, Department of Botany, N...</td>\n",
       "      <td>Conveyor Belt</td>\n",
       "      <td>Smithsonian Institution, NMNH, Botany</td>\n",
       "      <td>Barcode 01769128</td>\n",
       "      <td>Specimen/Object</td>\n",
       "      <td>NaN</td>\n",
       "      <td>http://n2t.net/ark:/65665/m3c4316b25-64a6-4e45...</td>\n",
       "      <td>tiff, jpeg, jpeg, jpeg, jpeg, jpeg</td>\n",
       "      <td>6879</td>\n",
       "      <td>9123</td>\n",
       "    </tr>\n",
       "    <tr>\n",
       "      <th>2223761</th>\n",
       "      <td>http://n2t.net/ark:/65665/3dd0180a6-871f-49ea-...</td>\n",
       "      <td>http://collections.nmnh.si.edu/media/index.php...</td>\n",
       "      <td>image</td>\n",
       "      <td>01643868.tif</td>\n",
       "      <td>Usage Conditions Apply</td>\n",
       "      <td>Usage Conditions Apply</td>\n",
       "      <td>https://www.si.edu/termsofuse</td>\n",
       "      <td>https://naturalhistory.si.edu/research/nmnh-co...</td>\n",
       "      <td>NaN</td>\n",
       "      <td>US National Herbarium, Department of Botany, N...</td>\n",
       "      <td>Conveyor Belt</td>\n",
       "      <td>Smithsonian Institution, NMNH, Botany</td>\n",
       "      <td>Barcode 01643868</td>\n",
       "      <td>Specimen/Object</td>\n",
       "      <td>NaN</td>\n",
       "      <td>http://n2t.net/ark:/65665/m35eb950e2-1e99-43d7...</td>\n",
       "      <td>tiff, jpeg, jpeg, jpeg, jpeg, jpeg</td>\n",
       "      <td>6872</td>\n",
       "      <td>9121</td>\n",
       "    </tr>\n",
       "    <tr>\n",
       "      <th>3624104</th>\n",
       "      <td>http://n2t.net/ark:/65665/312b0f61d-5771-4a4f-...</td>\n",
       "      <td>http://collections.nmnh.si.edu/media/index.php...</td>\n",
       "      <td>image</td>\n",
       "      <td>00342035.tif</td>\n",
       "      <td>CC0</td>\n",
       "      <td>CC0</td>\n",
       "      <td>https://creativecommons.org/publicdomain/zero/...</td>\n",
       "      <td>https://naturalhistory.si.edu/research/nmnh-co...</td>\n",
       "      <td>https://www.si.edu/sites/default/files/icons/c...</td>\n",
       "      <td>US National Herbarium, Department of Botany, N...</td>\n",
       "      <td>Conveyor Belt</td>\n",
       "      <td>Smithsonian Institution, NMNH, Botany</td>\n",
       "      <td>Barcode 00342035</td>\n",
       "      <td>Specimen/Object</td>\n",
       "      <td>NaN</td>\n",
       "      <td>http://n2t.net/ark:/65665/m30c7857c7-eb83-4caa...</td>\n",
       "      <td>tiff, jpeg, jpeg, jpeg, jpeg, jpeg</td>\n",
       "      <td>6807</td>\n",
       "      <td>8993</td>\n",
       "    </tr>\n",
       "    <tr>\n",
       "      <th>3746212</th>\n",
       "      <td>http://n2t.net/ark:/65665/370ff85e9-dbdc-4863-...</td>\n",
       "      <td>http://collections.nmnh.si.edu/media/index.php...</td>\n",
       "      <td>image</td>\n",
       "      <td>00380605.tif</td>\n",
       "      <td>CC0</td>\n",
       "      <td>CC0</td>\n",
       "      <td>https://creativecommons.org/publicdomain/zero/...</td>\n",
       "      <td>https://naturalhistory.si.edu/research/nmnh-co...</td>\n",
       "      <td>https://www.si.edu/sites/default/files/icons/c...</td>\n",
       "      <td>US National Herbarium, Department of Botany, N...</td>\n",
       "      <td>Conveyor Belt</td>\n",
       "      <td>Smithsonian Institution, NMNH, Botany</td>\n",
       "      <td>Barcode 00380605</td>\n",
       "      <td>Specimen/Object</td>\n",
       "      <td>NaN</td>\n",
       "      <td>http://n2t.net/ark:/65665/m3fb4c2f09-e0e9-4363...</td>\n",
       "      <td>tiff, jpeg, jpeg, jpeg, jpeg, jpeg</td>\n",
       "      <td>6759</td>\n",
       "      <td>8937</td>\n",
       "    </tr>\n",
       "    <tr>\n",
       "      <th>3149346</th>\n",
       "      <td>http://n2t.net/ark:/65665/320b4799f-e0d5-4e0e-...</td>\n",
       "      <td>http://collections.nmnh.si.edu/media/index.php...</td>\n",
       "      <td>image</td>\n",
       "      <td>00083001.tif</td>\n",
       "      <td>CC0</td>\n",
       "      <td>CC0</td>\n",
       "      <td>https://creativecommons.org/publicdomain/zero/...</td>\n",
       "      <td>https://naturalhistory.si.edu/research/nmnh-co...</td>\n",
       "      <td>https://www.si.edu/sites/default/files/icons/c...</td>\n",
       "      <td>US National Herbarium, Department of Botany, N...</td>\n",
       "      <td>Conveyor Belt</td>\n",
       "      <td>Smithsonian Institution, NMNH, Botany</td>\n",
       "      <td>Barcode 00083001</td>\n",
       "      <td>Specimen/Object</td>\n",
       "      <td>NaN</td>\n",
       "      <td>http://n2t.net/ark:/65665/m341691bbf-7a51-43d0...</td>\n",
       "      <td>tiff, jpeg, jpeg, jpeg, jpeg, jpeg</td>\n",
       "      <td>6923</td>\n",
       "      <td>9111</td>\n",
       "    </tr>\n",
       "  </tbody>\n",
       "</table>\n",
       "</div>"
      ],
      "text/plain": [
       "                                                        id  \\\n",
       "2500654  http://n2t.net/ark:/65665/3b1e3673e-bd2d-4e25-...   \n",
       "2223761  http://n2t.net/ark:/65665/3dd0180a6-871f-49ea-...   \n",
       "3624104  http://n2t.net/ark:/65665/312b0f61d-5771-4a4f-...   \n",
       "3746212  http://n2t.net/ark:/65665/370ff85e9-dbdc-4863-...   \n",
       "3149346  http://n2t.net/ark:/65665/320b4799f-e0d5-4e0e-...   \n",
       "\n",
       "                                                identifier   type  \\\n",
       "2500654  http://collections.nmnh.si.edu/media/index.php...  image   \n",
       "2223761  http://collections.nmnh.si.edu/media/index.php...  image   \n",
       "3624104  http://collections.nmnh.si.edu/media/index.php...  image   \n",
       "3746212  http://collections.nmnh.si.edu/media/index.php...  image   \n",
       "3149346  http://collections.nmnh.si.edu/media/index.php...  image   \n",
       "\n",
       "                title                  rights                rights.1  \\\n",
       "2500654  01769128.tif                     CC0                     CC0   \n",
       "2223761  01643868.tif  Usage Conditions Apply  Usage Conditions Apply   \n",
       "3624104  00342035.tif                     CC0                     CC0   \n",
       "3746212  00380605.tif                     CC0                     CC0   \n",
       "3149346  00083001.tif                     CC0                     CC0   \n",
       "\n",
       "                                                UsageTerms  \\\n",
       "2500654  https://creativecommons.org/publicdomain/zero/...   \n",
       "2223761                      https://www.si.edu/termsofuse   \n",
       "3624104  https://creativecommons.org/publicdomain/zero/...   \n",
       "3746212  https://creativecommons.org/publicdomain/zero/...   \n",
       "3149346  https://creativecommons.org/publicdomain/zero/...   \n",
       "\n",
       "                                              WebStatement  \\\n",
       "2500654  https://naturalhistory.si.edu/research/nmnh-co...   \n",
       "2223761  https://naturalhistory.si.edu/research/nmnh-co...   \n",
       "3624104  https://naturalhistory.si.edu/research/nmnh-co...   \n",
       "3746212  https://naturalhistory.si.edu/research/nmnh-co...   \n",
       "3149346  https://naturalhistory.si.edu/research/nmnh-co...   \n",
       "\n",
       "                                            licenseLogoURL  \\\n",
       "2500654  https://www.si.edu/sites/default/files/icons/c...   \n",
       "2223761                                                NaN   \n",
       "3624104  https://www.si.edu/sites/default/files/icons/c...   \n",
       "3746212  https://www.si.edu/sites/default/files/icons/c...   \n",
       "3149346  https://www.si.edu/sites/default/files/icons/c...   \n",
       "\n",
       "                                                    source        creator  \\\n",
       "2500654  US National Herbarium, Department of Botany, N...  Conveyor Belt   \n",
       "2223761  US National Herbarium, Department of Botany, N...  Conveyor Belt   \n",
       "3624104  US National Herbarium, Department of Botany, N...  Conveyor Belt   \n",
       "3746212  US National Herbarium, Department of Botany, N...  Conveyor Belt   \n",
       "3149346  US National Herbarium, Department of Botany, N...  Conveyor Belt   \n",
       "\n",
       "                               providerLiteral       description  \\\n",
       "2500654  Smithsonian Institution, NMNH, Botany  Barcode 01769128   \n",
       "2223761  Smithsonian Institution, NMNH, Botany  Barcode 01643868   \n",
       "3624104  Smithsonian Institution, NMNH, Botany  Barcode 00342035   \n",
       "3746212  Smithsonian Institution, NMNH, Botany  Barcode 00380605   \n",
       "3149346  Smithsonian Institution, NMNH, Botany  Barcode 00083001   \n",
       "\n",
       "        subjectCategoryVocabulary  scientificName  \\\n",
       "2500654           Specimen/Object             NaN   \n",
       "2223761           Specimen/Object             NaN   \n",
       "3624104           Specimen/Object             NaN   \n",
       "3746212           Specimen/Object             NaN   \n",
       "3149346           Specimen/Object             NaN   \n",
       "\n",
       "                                                 accessURI  \\\n",
       "2500654  http://n2t.net/ark:/65665/m3c4316b25-64a6-4e45...   \n",
       "2223761  http://n2t.net/ark:/65665/m35eb950e2-1e99-43d7...   \n",
       "3624104  http://n2t.net/ark:/65665/m30c7857c7-eb83-4caa...   \n",
       "3746212  http://n2t.net/ark:/65665/m3fb4c2f09-e0e9-4363...   \n",
       "3149346  http://n2t.net/ark:/65665/m341691bbf-7a51-43d0...   \n",
       "\n",
       "                                     format  PixelXDimension  PixelYDimension  \n",
       "2500654  tiff, jpeg, jpeg, jpeg, jpeg, jpeg             6879             9123  \n",
       "2223761  tiff, jpeg, jpeg, jpeg, jpeg, jpeg             6872             9121  \n",
       "3624104  tiff, jpeg, jpeg, jpeg, jpeg, jpeg             6807             8993  \n",
       "3746212  tiff, jpeg, jpeg, jpeg, jpeg, jpeg             6759             8937  \n",
       "3149346  tiff, jpeg, jpeg, jpeg, jpeg, jpeg             6923             9111  "
      ]
     },
     "execution_count": 54,
     "metadata": {},
     "output_type": "execute_result"
    }
   ],
   "source": [
    "botany_barcodes.sample(5)"
   ]
  },
  {
   "cell_type": "code",
   "execution_count": 55,
   "metadata": {},
   "outputs": [
    {
     "data": {
      "text/plain": [
       "[{'id': 'http://n2t.net/ark:/65665/383c692aa-19df-4cff-a531-797416649565',\n",
       "  'identifier': 'http://collections.nmnh.si.edu/media/index.php?irn=12287866',\n",
       "  'type': 'image',\n",
       "  'title': '02685579.tif',\n",
       "  'rights': 'CC0',\n",
       "  'rights.1': 'CC0',\n",
       "  'UsageTerms': 'https://creativecommons.org/publicdomain/zero/1.0/',\n",
       "  'WebStatement': 'https://naturalhistory.si.edu/research/nmnh-collections/museum-collections-policies',\n",
       "  'licenseLogoURL': 'https://www.si.edu/sites/default/files/icons/cc0.svg',\n",
       "  'source': 'US National Herbarium, Department of Botany, NMNH, Smithsonian Institution',\n",
       "  'creator': 'Conveyor Belt',\n",
       "  'providerLiteral': 'Smithsonian Institution, NMNH, Botany',\n",
       "  'description': 'Barcode 02685579',\n",
       "  'subjectCategoryVocabulary': 'Specimen/Object',\n",
       "  'scientificName': nan,\n",
       "  'accessURI': 'http://n2t.net/ark:/65665/m391ad16ee-637d-4fa3-84a2-d50b676df4a5',\n",
       "  'format': 'tiff, jpeg, jpeg, jpeg, jpeg, jpeg',\n",
       "  'PixelXDimension': 6777,\n",
       "  'PixelYDimension': 8945},\n",
       " {'id': 'http://n2t.net/ark:/65665/363e2bbcb-2e71-451d-9118-bd04edeeccb4',\n",
       "  'identifier': 'http://collections.nmnh.si.edu/media/index.php?irn=10685313',\n",
       "  'type': 'image',\n",
       "  'title': '01238717.TIF',\n",
       "  'rights': 'CC0',\n",
       "  'rights.1': 'CC0',\n",
       "  'UsageTerms': 'https://creativecommons.org/publicdomain/zero/1.0/',\n",
       "  'WebStatement': 'https://naturalhistory.si.edu/research/nmnh-collections/museum-collections-policies',\n",
       "  'licenseLogoURL': 'https://www.si.edu/sites/default/files/icons/cc0.svg',\n",
       "  'source': 'US National Herbarium, Department of Botany, NMNH, Smithsonian Institution',\n",
       "  'creator': 'Ingrid P. Lin',\n",
       "  'providerLiteral': 'Smithsonian Institution, NMNH, Botany',\n",
       "  'description': 'US National Herbarium. Barcode 01238717',\n",
       "  'subjectCategoryVocabulary': 'Specimen/Object',\n",
       "  'scientificName': nan,\n",
       "  'accessURI': 'http://n2t.net/ark:/65665/m3801c7010-fda0-4c13-9d9a-88cad033efa2',\n",
       "  'format': 'tiff, jpeg, jpeg, jpeg, jpeg, jpeg',\n",
       "  'PixelXDimension': 3840,\n",
       "  'PixelYDimension': 5760},\n",
       " {'id': 'http://n2t.net/ark:/65665/32be95370-5847-4dde-8bd6-77e27e373ef1',\n",
       "  'identifier': 'http://collections.nmnh.si.edu/media/index.php?irn=12441645',\n",
       "  'type': 'image',\n",
       "  'title': '01202031.tif',\n",
       "  'rights': 'CC0',\n",
       "  'rights.1': 'CC0',\n",
       "  'UsageTerms': 'https://creativecommons.org/publicdomain/zero/1.0/',\n",
       "  'WebStatement': 'https://naturalhistory.si.edu/research/nmnh-collections/museum-collections-policies',\n",
       "  'licenseLogoURL': 'https://www.si.edu/sites/default/files/icons/cc0.svg',\n",
       "  'source': 'US National Herbarium, Department of Botany, NMNH, Smithsonian Institution',\n",
       "  'creator': 'Conveyor Belt',\n",
       "  'providerLiteral': 'Smithsonian Institution, NMNH, Botany',\n",
       "  'description': 'Barcode 01202031',\n",
       "  'subjectCategoryVocabulary': 'Specimen/Object',\n",
       "  'scientificName': nan,\n",
       "  'accessURI': 'http://n2t.net/ark:/65665/m334f35a73-45bc-4735-be0c-021b0721bb2a',\n",
       "  'format': 'tiff, jpeg, jpeg, jpeg, jpeg, jpeg',\n",
       "  'PixelXDimension': 6838,\n",
       "  'PixelYDimension': 8942},\n",
       " {'id': 'http://n2t.net/ark:/65665/3f9b77df4-e294-4c5b-ab74-1170c02e3eb4',\n",
       "  'identifier': 'http://collections.nmnh.si.edu/media/index.php?irn=11850986',\n",
       "  'type': 'image',\n",
       "  'title': '01906608',\n",
       "  'rights': 'Usage Conditions Apply',\n",
       "  'rights.1': 'Usage Conditions Apply',\n",
       "  'UsageTerms': 'https://www.si.edu/termsofuse',\n",
       "  'WebStatement': 'https://naturalhistory.si.edu/research/nmnh-collections/museum-collections-policies',\n",
       "  'licenseLogoURL': nan,\n",
       "  'source': 'US National Herbarium, Department of Botany, NMNH, Smithsonian Institution',\n",
       "  'creator': 'Reflora Team',\n",
       "  'providerLiteral': 'Smithsonian Institution, NMNH, Botany',\n",
       "  'description': 'US National Herbarium specimen, barcode 01906608',\n",
       "  'subjectCategoryVocabulary': 'Specimen/Object',\n",
       "  'scientificName': nan,\n",
       "  'accessURI': 'http://n2t.net/ark:/65665/m300c49945-2741-46db-b45c-af4327770561',\n",
       "  'format': 'tiff, jpeg, jpeg, jpeg, jpeg, jpeg',\n",
       "  'PixelXDimension': 3744,\n",
       "  'PixelYDimension': 5616},\n",
       " {'id': 'http://n2t.net/ark:/65665/37ee0a39e-447c-4a04-8172-977e2c6c672f',\n",
       "  'identifier': 'http://collections.nmnh.si.edu/media/index.php?irn=12519393',\n",
       "  'type': 'image',\n",
       "  'title': '02775644.tif',\n",
       "  'rights': 'CC0',\n",
       "  'rights.1': 'CC0',\n",
       "  'UsageTerms': 'https://creativecommons.org/publicdomain/zero/1.0/',\n",
       "  'WebStatement': 'https://naturalhistory.si.edu/research/nmnh-collections/museum-collections-policies',\n",
       "  'licenseLogoURL': 'https://www.si.edu/sites/default/files/icons/cc0.svg',\n",
       "  'source': 'US National Herbarium, Department of Botany, NMNH, Smithsonian Institution',\n",
       "  'creator': 'Conveyor Belt',\n",
       "  'providerLiteral': 'Smithsonian Institution, NMNH, Botany',\n",
       "  'description': 'Barcode 02775644',\n",
       "  'subjectCategoryVocabulary': 'Specimen/Object',\n",
       "  'scientificName': nan,\n",
       "  'accessURI': 'http://n2t.net/ark:/65665/m3e6905d40-8a20-4ad4-92ae-ac577d9e03b2',\n",
       "  'format': 'tiff, jpeg, jpeg, jpeg, jpeg, jpeg',\n",
       "  'PixelXDimension': 6735,\n",
       "  'PixelYDimension': 8953}]"
      ]
     },
     "execution_count": 55,
     "metadata": {},
     "output_type": "execute_result"
    }
   ],
   "source": [
    "botany_barcodes.sample(5).to_dict(orient='records')"
   ]
  },
  {
   "cell_type": "code",
   "execution_count": 56,
   "metadata": {
    "ExecuteTime": {
     "end_time": "2020-09-04T22:10:09.344815Z",
     "start_time": "2020-09-04T22:10:09.340752Z"
    }
   },
   "outputs": [],
   "source": [
    "def extract_barcode(description_text):\n",
    "    space_split = description_text.lower().split()\n",
    "    barcode_idx = space_split.index('barcode')\n",
    "    if len(space_split) == barcode_idx + 1:\n",
    "        return np.nan\n",
    "    else:\n",
    "        barcode_number = space_split[barcode_idx + 1].strip('.').strip(',')\n",
    "        return barcode_number"
   ]
  },
  {
   "cell_type": "code",
   "execution_count": 57,
   "metadata": {
    "ExecuteTime": {
     "end_time": "2020-09-04T22:10:18.513768Z",
     "start_time": "2020-09-04T22:10:09.884791Z"
    }
   },
   "outputs": [
    {
     "data": {
      "text/html": [
       "<div>\n",
       "<style scoped>\n",
       "    .dataframe tbody tr th:only-of-type {\n",
       "        vertical-align: middle;\n",
       "    }\n",
       "\n",
       "    .dataframe tbody tr th {\n",
       "        vertical-align: top;\n",
       "    }\n",
       "\n",
       "    .dataframe thead th {\n",
       "        text-align: right;\n",
       "    }\n",
       "</style>\n",
       "<table border=\"1\" class=\"dataframe\">\n",
       "  <thead>\n",
       "    <tr style=\"text-align: right;\">\n",
       "      <th></th>\n",
       "      <th>description</th>\n",
       "      <th>barcode</th>\n",
       "    </tr>\n",
       "  </thead>\n",
       "  <tbody>\n",
       "    <tr>\n",
       "      <th>3480829</th>\n",
       "      <td>Barcode 00453051</td>\n",
       "      <td>00453051</td>\n",
       "    </tr>\n",
       "    <tr>\n",
       "      <th>3911517</th>\n",
       "      <td>Barcode 00162711</td>\n",
       "      <td>00162711</td>\n",
       "    </tr>\n",
       "    <tr>\n",
       "      <th>2580578</th>\n",
       "      <td>Barcode 02497538</td>\n",
       "      <td>02497538</td>\n",
       "    </tr>\n",
       "    <tr>\n",
       "      <th>230563</th>\n",
       "      <td>Barcode 01417384</td>\n",
       "      <td>01417384</td>\n",
       "    </tr>\n",
       "    <tr>\n",
       "      <th>2995726</th>\n",
       "      <td>Barcode 01578181</td>\n",
       "      <td>01578181</td>\n",
       "    </tr>\n",
       "    <tr>\n",
       "      <th>3134622</th>\n",
       "      <td>Barcode 02961835</td>\n",
       "      <td>02961835</td>\n",
       "    </tr>\n",
       "    <tr>\n",
       "      <th>3009970</th>\n",
       "      <td>Swallen, J. R. 1436, US National Herbarium She...</td>\n",
       "      <td>01166232</td>\n",
       "    </tr>\n",
       "    <tr>\n",
       "      <th>10281760</th>\n",
       "      <td>Barcode 03948337</td>\n",
       "      <td>03948337</td>\n",
       "    </tr>\n",
       "    <tr>\n",
       "      <th>3623044</th>\n",
       "      <td>Barcode 00030398</td>\n",
       "      <td>00030398</td>\n",
       "    </tr>\n",
       "    <tr>\n",
       "      <th>1337155</th>\n",
       "      <td>Palmer, E. 48, US National Herbarium Sheet 823...</td>\n",
       "      <td>00489097</td>\n",
       "    </tr>\n",
       "    <tr>\n",
       "      <th>10269546</th>\n",
       "      <td>Barcode 03928030</td>\n",
       "      <td>03928030</td>\n",
       "    </tr>\n",
       "    <tr>\n",
       "      <th>3738190</th>\n",
       "      <td>Barcode 03684395</td>\n",
       "      <td>03684395</td>\n",
       "    </tr>\n",
       "    <tr>\n",
       "      <th>1627766</th>\n",
       "      <td>Barcode 02697859</td>\n",
       "      <td>02697859</td>\n",
       "    </tr>\n",
       "    <tr>\n",
       "      <th>10337202</th>\n",
       "      <td>Barcode 01608954</td>\n",
       "      <td>01608954</td>\n",
       "    </tr>\n",
       "    <tr>\n",
       "      <th>3013924</th>\n",
       "      <td>Barcode 03155406</td>\n",
       "      <td>03155406</td>\n",
       "    </tr>\n",
       "    <tr>\n",
       "      <th>4135305</th>\n",
       "      <td>Barcode 01327458</td>\n",
       "      <td>01327458</td>\n",
       "    </tr>\n",
       "    <tr>\n",
       "      <th>124896</th>\n",
       "      <td>Barcode 02988948</td>\n",
       "      <td>02988948</td>\n",
       "    </tr>\n",
       "    <tr>\n",
       "      <th>3009984</th>\n",
       "      <td>Cooper, J. G. 2228, US National Herbarium Shee...</td>\n",
       "      <td>01192850</td>\n",
       "    </tr>\n",
       "    <tr>\n",
       "      <th>1496434</th>\n",
       "      <td>Barcode 02274285</td>\n",
       "      <td>02274285</td>\n",
       "    </tr>\n",
       "    <tr>\n",
       "      <th>3609094</th>\n",
       "      <td>Barcode 01720879</td>\n",
       "      <td>01720879</td>\n",
       "    </tr>\n",
       "  </tbody>\n",
       "</table>\n",
       "</div>"
      ],
      "text/plain": [
       "                                                description   barcode\n",
       "3480829                                    Barcode 00453051  00453051\n",
       "3911517                                    Barcode 00162711  00162711\n",
       "2580578                                    Barcode 02497538  02497538\n",
       "230563                                     Barcode 01417384  01417384\n",
       "2995726                                    Barcode 01578181  01578181\n",
       "3134622                                    Barcode 02961835  02961835\n",
       "3009970   Swallen, J. R. 1436, US National Herbarium She...  01166232\n",
       "10281760                                   Barcode 03948337  03948337\n",
       "3623044                                    Barcode 00030398  00030398\n",
       "1337155   Palmer, E. 48, US National Herbarium Sheet 823...  00489097\n",
       "10269546                                   Barcode 03928030  03928030\n",
       "3738190                                    Barcode 03684395  03684395\n",
       "1627766                                    Barcode 02697859  02697859\n",
       "10337202                                   Barcode 01608954  01608954\n",
       "3013924                                    Barcode 03155406  03155406\n",
       "4135305                                    Barcode 01327458  01327458\n",
       "124896                                     Barcode 02988948  02988948\n",
       "3009984   Cooper, J. G. 2228, US National Herbarium Shee...  01192850\n",
       "1496434                                    Barcode 02274285  02274285\n",
       "3609094                                    Barcode 01720879  01720879"
      ]
     },
     "execution_count": 57,
     "metadata": {},
     "output_type": "execute_result"
    }
   ],
   "source": [
    "botany_barcodes['barcode'] = botany_barcodes['description'].apply(extract_barcode)\n",
    "botany_barcodes[['description','barcode']].sample(20)"
   ]
  },
  {
   "cell_type": "code",
   "execution_count": 58,
   "metadata": {
    "ExecuteTime": {
     "end_time": "2020-09-04T22:10:36.154818Z",
     "start_time": "2020-09-04T22:10:33.246106Z"
    }
   },
   "outputs": [
    {
     "data": {
      "text/plain": [
       "8.0     3219629\n",
       "7.0           3\n",
       "19.0          1\n",
       "11.0          1\n",
       "2.0           1\n",
       "Name: barcode_len, dtype: int64"
      ]
     },
     "execution_count": 58,
     "metadata": {},
     "output_type": "execute_result"
    }
   ],
   "source": [
    "botany_barcodes['barcode_len'] = botany_barcodes['barcode'].str.len()\n",
    "botany_barcodes['barcode_len'].value_counts()"
   ]
  },
  {
   "cell_type": "code",
   "execution_count": 59,
   "metadata": {
    "ExecuteTime": {
     "end_time": "2020-09-04T22:12:45.178333Z",
     "start_time": "2020-09-04T22:12:45.172626Z"
    }
   },
   "outputs": [
    {
     "name": "stdout",
     "output_type": "stream",
     "text": [
      "7776\n"
     ]
    }
   ],
   "source": [
    "print(len(stained_barcodes))"
   ]
  },
  {
   "cell_type": "code",
   "execution_count": 61,
   "metadata": {
    "ExecuteTime": {
     "end_time": "2020-09-04T22:12:23.479798Z",
     "start_time": "2020-09-04T22:12:19.219776Z"
    }
   },
   "outputs": [
    {
     "data": {
      "text/plain": [
       "10922"
      ]
     },
     "execution_count": 61,
     "metadata": {},
     "output_type": "execute_result"
    }
   ],
   "source": [
    "stained_multimedia = botany_barcodes[botany_barcodes['barcode'].isin(stained_barcodes)]\n",
    "len(stained_multimedia)"
   ]
  },
  {
   "cell_type": "code",
   "execution_count": 65,
   "metadata": {},
   "outputs": [
    {
     "data": {
      "text/plain": [
       "3201"
      ]
     },
     "execution_count": 65,
     "metadata": {},
     "output_type": "execute_result"
    }
   ],
   "source": [
    "len(stained_multimedia[stained_multimedia.duplicated(subset='barcode')])"
   ]
  },
  {
   "cell_type": "markdown",
   "metadata": {},
   "source": [
    "**Uh oh, even after dropping complete duplicate records, there are still 3201 duplicate barcodes**"
   ]
  },
  {
   "cell_type": "code",
   "execution_count": 64,
   "metadata": {
    "ExecuteTime": {
     "end_time": "2020-09-04T22:15:18.563033Z",
     "start_time": "2020-09-04T22:15:18.460320Z"
    }
   },
   "outputs": [
    {
     "data": {
      "text/plain": [
       "[{'id': 'http://n2t.net/ark:/65665/3ce233bf5-d0e1-4967-9d59-acc0726d5588',\n",
       "  'identifier': 'http://collections.nmnh.si.edu/media/index.php?irn=10142667',\n",
       "  'type': 'image',\n",
       "  'title': '00000209.tif',\n",
       "  'rights': 'CC0',\n",
       "  'rights.1': 'CC0',\n",
       "  'UsageTerms': 'https://creativecommons.org/publicdomain/zero/1.0/',\n",
       "  'WebStatement': 'https://naturalhistory.si.edu/research/nmnh-collections/museum-collections-policies',\n",
       "  'licenseLogoURL': 'https://www.si.edu/sites/default/files/icons/cc0.svg',\n",
       "  'source': 'Specimen from Department of Botany, NMNH, Smithsonian Institution',\n",
       "  'creator': 'Ingrid P. Lin',\n",
       "  'providerLiteral': 'Smithsonian Institution, NMNH, Botany',\n",
       "  'description': 'US National Herbarium specimen, barcode 00000209',\n",
       "  'subjectCategoryVocabulary': 'Specimen/Object',\n",
       "  'scientificName': nan,\n",
       "  'accessURI': 'http://n2t.net/ark:/65665/m3325dc959-7428-4973-b804-f4c8273d7cbc',\n",
       "  'format': 'tiff, jpeg, jpeg, jpeg, jpeg, jpeg',\n",
       "  'PixelXDimension': 7319,\n",
       "  'PixelYDimension': 10319,\n",
       "  'barcode': '00000209',\n",
       "  'barcode_len': 8.0},\n",
       " {'id': 'http://n2t.net/ark:/65665/350435d2c-8228-4f1c-b2ed-99b4bb0ab20d',\n",
       "  'identifier': 'http://collections.nmnh.si.edu/media/index.php?irn=10142667',\n",
       "  'type': 'image',\n",
       "  'title': '00000209.tif',\n",
       "  'rights': 'CC0',\n",
       "  'rights.1': 'CC0',\n",
       "  'UsageTerms': 'https://creativecommons.org/publicdomain/zero/1.0/',\n",
       "  'WebStatement': 'https://naturalhistory.si.edu/research/nmnh-collections/museum-collections-policies',\n",
       "  'licenseLogoURL': 'https://www.si.edu/sites/default/files/icons/cc0.svg',\n",
       "  'source': 'Specimen from Department of Botany, NMNH, Smithsonian Institution',\n",
       "  'creator': 'Ingrid P. Lin',\n",
       "  'providerLiteral': 'Smithsonian Institution, NMNH, Botany',\n",
       "  'description': 'US National Herbarium specimen, barcode 00000209',\n",
       "  'subjectCategoryVocabulary': 'Specimen/Object',\n",
       "  'scientificName': nan,\n",
       "  'accessURI': 'http://n2t.net/ark:/65665/m3325dc959-7428-4973-b804-f4c8273d7cbc',\n",
       "  'format': 'tiff, jpeg, jpeg, jpeg, jpeg, jpeg',\n",
       "  'PixelXDimension': 7319,\n",
       "  'PixelYDimension': 10319,\n",
       "  'barcode': '00000209',\n",
       "  'barcode_len': 8.0},\n",
       " {'id': 'http://n2t.net/ark:/65665/34649df09-c3c2-417a-b447-c586676ddc32',\n",
       "  'identifier': 'http://collections.nmnh.si.edu/media/index.php?irn=13732573',\n",
       "  'type': 'image',\n",
       "  'title': '00050386.tif',\n",
       "  'rights': 'CC0',\n",
       "  'rights.1': 'CC0',\n",
       "  'UsageTerms': 'https://creativecommons.org/publicdomain/zero/1.0/',\n",
       "  'WebStatement': 'https://naturalhistory.si.edu/research/nmnh-collections/museum-collections-policies',\n",
       "  'licenseLogoURL': 'https://www.si.edu/sites/default/files/icons/cc0.svg',\n",
       "  'source': 'US National Herbarium, Department of Botany, NMNH, Smithsonian Institution',\n",
       "  'creator': 'Conveyor Belt',\n",
       "  'providerLiteral': 'Smithsonian Institution, NMNH, Botany',\n",
       "  'description': 'Barcode 00050386',\n",
       "  'subjectCategoryVocabulary': 'Specimen/Object',\n",
       "  'scientificName': nan,\n",
       "  'accessURI': 'http://n2t.net/ark:/65665/m3dcef5714-bdbf-43b7-a0ef-e4e2b1ad579c',\n",
       "  'format': 'tiff, jpeg, jpeg, jpeg, jpeg, jpeg',\n",
       "  'PixelXDimension': 6756,\n",
       "  'PixelYDimension': 8872,\n",
       "  'barcode': '00050386',\n",
       "  'barcode_len': 8.0},\n",
       " {'id': 'http://n2t.net/ark:/65665/34649df09-c3c2-417a-b447-c586676ddc32',\n",
       "  'identifier': 'http://collections.nmnh.si.edu/media/index.php?irn=10208405',\n",
       "  'type': 'image',\n",
       "  'title': '00050386.tif',\n",
       "  'rights': 'CC0',\n",
       "  'rights.1': 'CC0',\n",
       "  'UsageTerms': 'https://creativecommons.org/publicdomain/zero/1.0/',\n",
       "  'WebStatement': 'https://naturalhistory.si.edu/research/nmnh-collections/museum-collections-policies',\n",
       "  'licenseLogoURL': 'https://www.si.edu/sites/default/files/icons/cc0.svg',\n",
       "  'source': 'US National Herbarium, Department of Botany, NMNH, Smithsonian Institution',\n",
       "  'creator': 'Ingrid P. Lin',\n",
       "  'providerLiteral': 'Smithsonian Institution, NMNH, Botany',\n",
       "  'description': 'Wilkes Explor. Exped. s.n., US National Herbarium Sheet 19383 Barcode 00050386',\n",
       "  'subjectCategoryVocabulary': 'Specimen/Object',\n",
       "  'scientificName': nan,\n",
       "  'accessURI': 'http://n2t.net/ark:/65665/m369a8c22b-f10e-42c8-ba81-caf20046adb7',\n",
       "  'format': 'tiff, jpeg, jpeg, jpeg, jpeg, jpeg',\n",
       "  'PixelXDimension': 3924,\n",
       "  'PixelYDimension': 5000,\n",
       "  'barcode': '00050386',\n",
       "  'barcode_len': 8.0},\n",
       " {'id': 'http://n2t.net/ark:/65665/33b80c5d1-2036-4ba7-bf30-7ea05ebe1e1c',\n",
       "  'identifier': 'http://collections.nmnh.si.edu/media/index.php?irn=10208509',\n",
       "  'type': 'image',\n",
       "  'title': '00052393.tif',\n",
       "  'rights': 'CC0',\n",
       "  'rights.1': 'CC0',\n",
       "  'UsageTerms': 'https://creativecommons.org/publicdomain/zero/1.0/',\n",
       "  'WebStatement': 'https://naturalhistory.si.edu/research/nmnh-collections/museum-collections-policies',\n",
       "  'licenseLogoURL': 'https://www.si.edu/sites/default/files/icons/cc0.svg',\n",
       "  'source': 'US National Herbarium, Department of Botany, NMNH, Smithsonian Institution',\n",
       "  'creator': 'Ingrid P. Lin',\n",
       "  'providerLiteral': 'Smithsonian Institution, NMNH, Botany',\n",
       "  'description': 'Collector unknown s.n., US National Herbarium Sheet 86212 Barcode 00052393',\n",
       "  'subjectCategoryVocabulary': 'Specimen/Object',\n",
       "  'scientificName': nan,\n",
       "  'accessURI': 'http://n2t.net/ark:/65665/m3df130276-3028-428e-966e-3ef9f81a5f6b',\n",
       "  'format': 'tiff, jpeg, jpeg, jpeg, jpeg, jpeg',\n",
       "  'PixelXDimension': 4036,\n",
       "  'PixelYDimension': 5000,\n",
       "  'barcode': '00052393',\n",
       "  'barcode_len': 8.0},\n",
       " {'id': 'http://n2t.net/ark:/65665/33b80c5d1-2036-4ba7-bf30-7ea05ebe1e1c',\n",
       "  'identifier': 'http://collections.nmnh.si.edu/media/index.php?irn=13168042',\n",
       "  'type': 'image',\n",
       "  'title': '00052393.tif',\n",
       "  'rights': 'CC0',\n",
       "  'rights.1': 'CC0',\n",
       "  'UsageTerms': 'https://creativecommons.org/publicdomain/zero/1.0/',\n",
       "  'WebStatement': 'https://naturalhistory.si.edu/research/nmnh-collections/museum-collections-policies',\n",
       "  'licenseLogoURL': 'https://www.si.edu/sites/default/files/icons/cc0.svg',\n",
       "  'source': 'US National Herbarium, Department of Botany, NMNH, Smithsonian Institution',\n",
       "  'creator': 'Conveyor Belt',\n",
       "  'providerLiteral': 'Smithsonian Institution, NMNH, Botany',\n",
       "  'description': 'Barcode 00052393',\n",
       "  'subjectCategoryVocabulary': 'Specimen/Object',\n",
       "  'scientificName': nan,\n",
       "  'accessURI': 'http://n2t.net/ark:/65665/m32f1cca76-7b94-404b-85e2-d6a3e02b9b75',\n",
       "  'format': 'tiff, jpeg, jpeg, jpeg, jpeg, jpeg',\n",
       "  'PixelXDimension': 6845,\n",
       "  'PixelYDimension': 8885,\n",
       "  'barcode': '00052393',\n",
       "  'barcode_len': 8.0},\n",
       " {'id': 'http://n2t.net/ark:/65665/33fb0ee95-d3bd-4394-8535-630ebdf1f714',\n",
       "  'identifier': 'http://collections.nmnh.si.edu/media/index.php?irn=14055080',\n",
       "  'type': 'image',\n",
       "  'title': '00054336.tif',\n",
       "  'rights': 'CC0',\n",
       "  'rights.1': 'CC0',\n",
       "  'UsageTerms': 'https://creativecommons.org/publicdomain/zero/1.0/',\n",
       "  'WebStatement': 'https://naturalhistory.si.edu/research/nmnh-collections/museum-collections-policies',\n",
       "  'licenseLogoURL': 'https://www.si.edu/sites/default/files/icons/cc0.svg',\n",
       "  'source': 'US National Herbarium, Department of Botany, NMNH, Smithsonian Institution',\n",
       "  'creator': 'Conveyor Belt',\n",
       "  'providerLiteral': 'Smithsonian Institution, NMNH, Botany',\n",
       "  'description': 'Barcode 00054336',\n",
       "  'subjectCategoryVocabulary': 'Specimen/Object',\n",
       "  'scientificName': nan,\n",
       "  'accessURI': 'http://n2t.net/ark:/65665/m34932db0c-012e-458d-8108-be8f4bb03d51',\n",
       "  'format': 'tiff, jpeg, jpeg, jpeg, jpeg, jpeg',\n",
       "  'PixelXDimension': 6748,\n",
       "  'PixelYDimension': 8832,\n",
       "  'barcode': '00054336',\n",
       "  'barcode_len': 8.0},\n",
       " {'id': 'http://n2t.net/ark:/65665/33fb0ee95-d3bd-4394-8535-630ebdf1f714',\n",
       "  'identifier': 'http://collections.nmnh.si.edu/media/index.php?irn=10208371',\n",
       "  'type': 'image',\n",
       "  'title': '00054336.tif',\n",
       "  'rights': 'CC0',\n",
       "  'rights.1': 'CC0',\n",
       "  'UsageTerms': 'https://creativecommons.org/publicdomain/zero/1.0/',\n",
       "  'WebStatement': 'https://naturalhistory.si.edu/research/nmnh-collections/museum-collections-policies',\n",
       "  'licenseLogoURL': 'https://www.si.edu/sites/default/files/icons/cc0.svg',\n",
       "  'source': 'US National Herbarium, Department of Botany, NMNH, Smithsonian Institution',\n",
       "  'creator': 'Ingrid P. Lin',\n",
       "  'providerLiteral': 'Smithsonian Institution, NMNH, Botany',\n",
       "  'description': 'Wilkes Explor. Exped. s.n., US National Herbarium Sheet 2686 Barcode 00054336',\n",
       "  'subjectCategoryVocabulary': 'Specimen/Object',\n",
       "  'scientificName': nan,\n",
       "  'accessURI': 'http://n2t.net/ark:/65665/m3df430b39-64c3-460d-af65-a7cfc04e3968',\n",
       "  'format': 'tiff, jpeg, jpeg, jpeg, jpeg, jpeg',\n",
       "  'PixelXDimension': 3844,\n",
       "  'PixelYDimension': 4996,\n",
       "  'barcode': '00054336',\n",
       "  'barcode_len': 8.0},\n",
       " {'id': 'http://n2t.net/ark:/65665/34e50ddbd-a39e-4990-9bcd-fcbc2b117e13',\n",
       "  'identifier': 'http://collections.nmnh.si.edu/media/index.php?irn=10208035',\n",
       "  'type': 'image',\n",
       "  'title': '00055088.tif',\n",
       "  'rights': 'CC0',\n",
       "  'rights.1': 'CC0',\n",
       "  'UsageTerms': 'https://creativecommons.org/publicdomain/zero/1.0/',\n",
       "  'WebStatement': 'https://naturalhistory.si.edu/research/nmnh-collections/museum-collections-policies',\n",
       "  'licenseLogoURL': 'https://www.si.edu/sites/default/files/icons/cc0.svg',\n",
       "  'source': 'US National Herbarium, Department of Botany, NMNH, Smithsonian Institution',\n",
       "  'creator': 'Ingrid P. Lin',\n",
       "  'providerLiteral': 'Smithsonian Institution, NMNH, Botany',\n",
       "  'description': 'Wilkes Explor. Exped. s.n., US National Herbarium Sheet 781183 Barcode 00055088',\n",
       "  'subjectCategoryVocabulary': 'Specimen/Object',\n",
       "  'scientificName': nan,\n",
       "  'accessURI': 'http://n2t.net/ark:/65665/m3a58bc7d0-b28c-4733-9123-344541fee3f0',\n",
       "  'format': 'tiff, jpeg, jpeg, jpeg, jpeg, jpeg',\n",
       "  'PixelXDimension': 3864,\n",
       "  'PixelYDimension': 5148,\n",
       "  'barcode': '00055088',\n",
       "  'barcode_len': 8.0},\n",
       " {'id': 'http://n2t.net/ark:/65665/34e50ddbd-a39e-4990-9bcd-fcbc2b117e13',\n",
       "  'identifier': 'http://collections.nmnh.si.edu/media/index.php?irn=13972968',\n",
       "  'type': 'image',\n",
       "  'title': '00055088.tif',\n",
       "  'rights': 'CC0',\n",
       "  'rights.1': 'CC0',\n",
       "  'UsageTerms': 'https://creativecommons.org/publicdomain/zero/1.0/',\n",
       "  'WebStatement': 'https://naturalhistory.si.edu/research/nmnh-collections/museum-collections-policies',\n",
       "  'licenseLogoURL': 'https://www.si.edu/sites/default/files/icons/cc0.svg',\n",
       "  'source': 'US National Herbarium, Department of Botany, NMNH, Smithsonian Institution',\n",
       "  'creator': 'Conveyor Belt',\n",
       "  'providerLiteral': 'Smithsonian Institution, NMNH, Botany',\n",
       "  'description': 'Barcode 00055088',\n",
       "  'subjectCategoryVocabulary': 'Specimen/Object',\n",
       "  'scientificName': nan,\n",
       "  'accessURI': 'http://n2t.net/ark:/65665/m317620042-f82a-4d56-b583-b3ff76499e81',\n",
       "  'format': 'tiff, jpeg, jpeg, jpeg, jpeg, jpeg',\n",
       "  'PixelXDimension': 6767,\n",
       "  'PixelYDimension': 8923,\n",
       "  'barcode': '00055088',\n",
       "  'barcode_len': 8.0}]"
      ]
     },
     "execution_count": 64,
     "metadata": {},
     "output_type": "execute_result"
    }
   ],
   "source": [
    "stained_multimedia[stained_multimedia.duplicated(subset='barcode',keep=False)].sort_values('barcode').head(10).to_dict(orient='records')"
   ]
  },
  {
   "cell_type": "markdown",
   "metadata": {},
   "source": [
    "The first duplicate barcode (00000209) appears to have 2 different specimen IDs:\n",
    "\n",
    "* http://n2t.net/ark:/65665/3ce233bf5-d0e1-4967-9d59-acc0726d5588\n",
    "* http://n2t.net/ark:/65665/350435d2c-8228-4f1c-b2ed-99b4bb0ab20d\n",
    "\n",
    "It shows the same herbarium sheet, but the 2 links have slightly different specimen data. This is because there are 2 different specimens on the same sheet!"
   ]
  },
  {
   "cell_type": "code",
   "execution_count": 43,
   "metadata": {
    "ExecuteTime": {
     "end_time": "2020-09-04T22:27:09.707277Z",
     "start_time": "2020-09-04T22:27:09.685691Z"
    }
   },
   "outputs": [],
   "source": [
    "stained_multimedia = stained_multimedia.drop_duplicates(subset='barcode',keep='first')"
   ]
  },
  {
   "cell_type": "code",
   "execution_count": 44,
   "metadata": {},
   "outputs": [
    {
     "data": {
      "text/plain": [
       "CC0                       7061\n",
       "Usage Conditions Apply     660\n",
       "Name: rights, dtype: int64"
      ]
     },
     "execution_count": 44,
     "metadata": {},
     "output_type": "execute_result"
    }
   ],
   "source": [
    "stained_multimedia['rights'].value_counts()"
   ]
  },
  {
   "cell_type": "code",
   "execution_count": 45,
   "metadata": {
    "ExecuteTime": {
     "end_time": "2020-09-04T22:28:22.581636Z",
     "start_time": "2020-09-04T22:28:22.568158Z"
    }
   },
   "outputs": [
    {
     "data": {
      "text/plain": [
       "7721"
      ]
     },
     "execution_count": 45,
     "metadata": {},
     "output_type": "execute_result"
    }
   ],
   "source": [
    "stained_multimedia_barcodes = stained_multimedia['barcode'].unique().tolist()\n",
    "len(stained_multimedia_barcodes)"
   ]
  },
  {
   "cell_type": "code",
   "execution_count": 19,
   "metadata": {
    "ExecuteTime": {
     "end_time": "2020-09-04T22:29:00.283195Z",
     "start_time": "2020-09-04T22:28:59.445779Z"
    }
   },
   "outputs": [
    {
     "name": "stdout",
     "output_type": "stream",
     "text": [
      "00006043\n",
      "00007912\n",
      "00013762\n",
      "00026972\n",
      "00093315\n",
      "00093335\n",
      "00093392\n",
      "00093415\n",
      "00093417\n",
      "00093444\n",
      "00093445\n",
      "00093482\n",
      "00093516\n",
      "00093517\n",
      "00093536\n",
      "00093538\n",
      "00093539\n",
      "00093540\n",
      "00093542\n",
      "00093546\n",
      "00093550\n",
      "00093553\n",
      "00093573\n",
      "00093579\n",
      "00093580\n",
      "00093592\n",
      "00093594\n",
      "00093597\n",
      "00093632\n",
      "00093671\n",
      "00093672\n",
      "00093703\n",
      "00093715\n",
      "00093736\n",
      "00093751\n",
      "00093826\n",
      "00093827\n",
      "00093874\n",
      "00093880\n",
      "00093905\n",
      "00093907\n",
      "00093916\n",
      "00093932\n",
      "00093940\n",
      "00094078\n",
      "00094096\n",
      "00094104\n",
      "00094105\n",
      "00094137\n",
      "00098766_packet\n",
      "00343811\n",
      "00512568\n",
      "00997924\n",
      "01049663\n",
      "01050380\n"
     ]
    }
   ],
   "source": [
    "for bc in stained_barcodes:\n",
    "    if bc not in stained_multimedia_barcodes:\n",
    "        print(bc)"
   ]
  },
  {
   "cell_type": "code",
   "execution_count": 31,
   "metadata": {},
   "outputs": [],
   "source": [
    "from PIL import Image\n",
    "import requests\n",
    "import io"
   ]
  },
  {
   "cell_type": "code",
   "execution_count": 41,
   "metadata": {},
   "outputs": [
    {
     "name": "stdout",
     "output_type": "stream",
     "text": [
      "200\n",
      "{'width': 7319, 'height': 10319}\n"
     ]
    }
   ],
   "source": [
    "test_irn_url = 'http://collections.nmnh.si.edu/media/index.php?irn=10086661'\n",
    "\n",
    "test_ark_url = 'http://n2t.net/ark:/65665/m36e1bbdd7-8c33-4a87-ab66-6f47ea582d90'\n",
    "\n",
    "width, height = np.nan, np.nan\n",
    "image_url = test_ark_url\n",
    "filename = 'test_irn_download.jpg'\n",
    "\n",
    "try:\n",
    "    r = requests.get(image_url, timeout=20)\n",
    "    if r.headers['Content-Type'] == 'image/jpeg':\n",
    "        try:\n",
    "            with Image.open(io.BytesIO(r.content)) as im:\n",
    "                width, height = im.size\n",
    "                im.save(filename)\n",
    "        except:\n",
    "            print('Weird error with ' + image_url)\n",
    "except:\n",
    "    print('Timeout error with ' + image_url)\n",
    "print({'width': width, 'height': height})"
   ]
  },
  {
   "cell_type": "code",
   "execution_count": null,
   "metadata": {},
   "outputs": [],
   "source": []
  }
 ],
 "metadata": {
  "kernelspec": {
   "display_name": "Python 3",
   "language": "python",
   "name": "python3"
  },
  "language_info": {
   "codemirror_mode": {
    "name": "ipython",
    "version": 3
   },
   "file_extension": ".py",
   "mimetype": "text/x-python",
   "name": "python",
   "nbconvert_exporter": "python",
   "pygments_lexer": "ipython3",
   "version": "3.8.4"
  }
 },
 "nbformat": 4,
 "nbformat_minor": 4
}
