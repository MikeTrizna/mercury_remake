{
 "cells": [
  {
   "cell_type": "markdown",
   "metadata": {},
   "source": [
    "## Pulling down mercury-stained sheets from NMNH DWCA"
   ]
  },
  {
   "cell_type": "markdown",
   "metadata": {},
   "source": [
    "Attempting to grab data from scratch to replicate \"Applications of deep convolutional neural networks to digitized natural history collections\" (https://www.ncbi.nlm.nih.gov/pmc/articles/PMC5680669/)"
   ]
  },
  {
   "cell_type": "code",
   "execution_count": 1,
   "metadata": {
    "ExecuteTime": {
     "end_time": "2020-09-29T19:45:39.117061Z",
     "start_time": "2020-09-29T19:45:38.410603Z"
    }
   },
   "outputs": [],
   "source": [
    "import tarfile\n",
    "import pandas as pd\n",
    "import numpy as np"
   ]
  },
  {
   "cell_type": "markdown",
   "metadata": {},
   "source": [
    "### Getting barcodes from Figshare"
   ]
  },
  {
   "cell_type": "markdown",
   "metadata": {},
   "source": [
    "First, we need to download the image bundles from Figshare in order to get their image barcodes. They are posted separately by [stained](https://smithsonian.figshare.com/articles/dataset/Mercury-stained_botany_images_for_deep_learning/5423083) and [unstained](https://smithsonian.figshare.com/articles/dataset/Unstained_botany_images_for_deep_learning/5423098) datasets."
   ]
  },
  {
   "cell_type": "code",
   "execution_count": 2,
   "metadata": {
    "ExecuteTime": {
     "end_time": "2020-09-29T19:45:46.515203Z",
     "start_time": "2020-09-29T19:45:42.712653Z"
    }
   },
   "outputs": [
    {
     "data": {
      "text/plain": [
       "['00000140', '00000162', '00000185', '00000209', '00000231']"
      ]
     },
     "execution_count": 2,
     "metadata": {},
     "output_type": "execute_result"
    }
   ],
   "source": [
    "stained_barcodes = []\n",
    "with tarfile.open(\"stained.tar.gz\", \"r:gz\") as tar:\n",
    "    for filename in tar.getnames():\n",
    "        if filename.endswith('.jpg'):\n",
    "            barcode = filename.split('/')[1].split('.')[0]\n",
    "            stained_barcodes.append(barcode)\n",
    "stained_barcodes[:5]"
   ]
  },
  {
   "cell_type": "code",
   "execution_count": 3,
   "metadata": {
    "ExecuteTime": {
     "end_time": "2020-09-29T19:45:52.865195Z",
     "start_time": "2020-09-29T19:45:48.593870Z"
    }
   },
   "outputs": [
    {
     "data": {
      "text/plain": [
       "['00000001', '00000003', '00000015', '00000020', '00000021']"
      ]
     },
     "execution_count": 3,
     "metadata": {},
     "output_type": "execute_result"
    }
   ],
   "source": [
    "unstained_barcodes = []\n",
    "with tarfile.open(\"unstained.tar.gz\", \"r:gz\") as tar:\n",
    "    for filename in tar.getnames():\n",
    "        if filename.endswith('.jpg'):\n",
    "            barcode = filename.split('/')[1].split('.')[0]\n",
    "            unstained_barcodes.append(barcode)\n",
    "unstained_barcodes[:5]"
   ]
  },
  {
   "cell_type": "code",
   "execution_count": 4,
   "metadata": {
    "ExecuteTime": {
     "end_time": "2020-09-29T19:45:54.198739Z",
     "start_time": "2020-09-29T19:45:54.175518Z"
    }
   },
   "outputs": [
    {
     "data": {
      "text/html": [
       "<div>\n",
       "<style scoped>\n",
       "    .dataframe tbody tr th:only-of-type {\n",
       "        vertical-align: middle;\n",
       "    }\n",
       "\n",
       "    .dataframe tbody tr th {\n",
       "        vertical-align: top;\n",
       "    }\n",
       "\n",
       "    .dataframe thead th {\n",
       "        text-align: right;\n",
       "    }\n",
       "</style>\n",
       "<table border=\"1\" class=\"dataframe\">\n",
       "  <thead>\n",
       "    <tr style=\"text-align: right;\">\n",
       "      <th></th>\n",
       "      <th>barcode</th>\n",
       "      <th>stain_status</th>\n",
       "    </tr>\n",
       "  </thead>\n",
       "  <tbody>\n",
       "    <tr>\n",
       "      <th>0</th>\n",
       "      <td>00000140</td>\n",
       "      <td>stained</td>\n",
       "    </tr>\n",
       "    <tr>\n",
       "      <th>1</th>\n",
       "      <td>00000162</td>\n",
       "      <td>stained</td>\n",
       "    </tr>\n",
       "    <tr>\n",
       "      <th>2</th>\n",
       "      <td>00000185</td>\n",
       "      <td>stained</td>\n",
       "    </tr>\n",
       "    <tr>\n",
       "      <th>3</th>\n",
       "      <td>00000209</td>\n",
       "      <td>stained</td>\n",
       "    </tr>\n",
       "    <tr>\n",
       "      <th>4</th>\n",
       "      <td>00000231</td>\n",
       "      <td>stained</td>\n",
       "    </tr>\n",
       "  </tbody>\n",
       "</table>\n",
       "</div>"
      ],
      "text/plain": [
       "    barcode stain_status\n",
       "0  00000140      stained\n",
       "1  00000162      stained\n",
       "2  00000185      stained\n",
       "3  00000209      stained\n",
       "4  00000231      stained"
      ]
     },
     "execution_count": 4,
     "metadata": {},
     "output_type": "execute_result"
    }
   ],
   "source": [
    "stained_barcode_df = pd.DataFrame(stained_barcodes, columns=['barcode'])\n",
    "stained_barcode_df['stain_status'] = 'stained'\n",
    "stained_barcode_df.head()"
   ]
  },
  {
   "cell_type": "code",
   "execution_count": 5,
   "metadata": {
    "ExecuteTime": {
     "end_time": "2020-09-29T19:45:56.223367Z",
     "start_time": "2020-09-29T19:45:56.214029Z"
    }
   },
   "outputs": [
    {
     "data": {
      "text/html": [
       "<div>\n",
       "<style scoped>\n",
       "    .dataframe tbody tr th:only-of-type {\n",
       "        vertical-align: middle;\n",
       "    }\n",
       "\n",
       "    .dataframe tbody tr th {\n",
       "        vertical-align: top;\n",
       "    }\n",
       "\n",
       "    .dataframe thead th {\n",
       "        text-align: right;\n",
       "    }\n",
       "</style>\n",
       "<table border=\"1\" class=\"dataframe\">\n",
       "  <thead>\n",
       "    <tr style=\"text-align: right;\">\n",
       "      <th></th>\n",
       "      <th>barcode</th>\n",
       "      <th>stain_status</th>\n",
       "    </tr>\n",
       "  </thead>\n",
       "  <tbody>\n",
       "    <tr>\n",
       "      <th>0</th>\n",
       "      <td>00000001</td>\n",
       "      <td>unstained</td>\n",
       "    </tr>\n",
       "    <tr>\n",
       "      <th>1</th>\n",
       "      <td>00000003</td>\n",
       "      <td>unstained</td>\n",
       "    </tr>\n",
       "    <tr>\n",
       "      <th>2</th>\n",
       "      <td>00000015</td>\n",
       "      <td>unstained</td>\n",
       "    </tr>\n",
       "    <tr>\n",
       "      <th>3</th>\n",
       "      <td>00000020</td>\n",
       "      <td>unstained</td>\n",
       "    </tr>\n",
       "    <tr>\n",
       "      <th>4</th>\n",
       "      <td>00000021</td>\n",
       "      <td>unstained</td>\n",
       "    </tr>\n",
       "  </tbody>\n",
       "</table>\n",
       "</div>"
      ],
      "text/plain": [
       "    barcode stain_status\n",
       "0  00000001    unstained\n",
       "1  00000003    unstained\n",
       "2  00000015    unstained\n",
       "3  00000020    unstained\n",
       "4  00000021    unstained"
      ]
     },
     "execution_count": 5,
     "metadata": {},
     "output_type": "execute_result"
    }
   ],
   "source": [
    "unstained_barcode_df = pd.DataFrame(unstained_barcodes, columns=['barcode'])\n",
    "unstained_barcode_df['stain_status'] = 'unstained'\n",
    "unstained_barcode_df.head()"
   ]
  },
  {
   "cell_type": "code",
   "execution_count": 20,
   "metadata": {
    "ExecuteTime": {
     "end_time": "2020-09-29T19:50:34.542851Z",
     "start_time": "2020-09-29T19:50:34.529991Z"
    }
   },
   "outputs": [
    {
     "name": "stdout",
     "output_type": "stream",
     "text": [
      "<class 'pandas.core.frame.DataFrame'>\n",
      "Int64Index: 15553 entries, 0 to 7776\n",
      "Data columns (total 2 columns):\n",
      " #   Column        Non-Null Count  Dtype \n",
      "---  ------        --------------  ----- \n",
      " 0   barcode       15553 non-null  object\n",
      " 1   stain_status  15553 non-null  object\n",
      "dtypes: object(2)\n",
      "memory usage: 364.5+ KB\n"
     ]
    }
   ],
   "source": [
    "stain_status_df = pd.concat([stained_barcode_df, unstained_barcode_df])\n",
    "stain_status_df.info()"
   ]
  },
  {
   "cell_type": "code",
   "execution_count": 21,
   "metadata": {
    "ExecuteTime": {
     "end_time": "2020-09-29T19:50:46.925534Z",
     "start_time": "2020-09-29T19:50:46.917614Z"
    }
   },
   "outputs": [
    {
     "data": {
      "text/plain": [
       "unstained    7777\n",
       "stained      7776\n",
       "Name: stain_status, dtype: int64"
      ]
     },
     "execution_count": 21,
     "metadata": {},
     "output_type": "execute_result"
    }
   ],
   "source": [
    "stain_status_df['stain_status'].value_counts()"
   ]
  },
  {
   "cell_type": "code",
   "execution_count": 22,
   "metadata": {
    "ExecuteTime": {
     "end_time": "2020-09-29T19:50:53.783619Z",
     "start_time": "2020-09-29T19:50:53.753982Z"
    }
   },
   "outputs": [],
   "source": [
    "stain_status_df.to_csv('barcodes_from_figshare.tsv', index=False, sep='\\t')"
   ]
  },
  {
   "cell_type": "markdown",
   "metadata": {},
   "source": [
    "### Pulling multimedia data from NMNH DarwinCore Archive"
   ]
  },
  {
   "cell_type": "markdown",
   "metadata": {},
   "source": [
    "Here is the link to the Smithsonian NMNH IPT: https://collections.nmnh.si.edu/ipt/resource?r=nmnh_extant_dwc-a"
   ]
  },
  {
   "cell_type": "code",
   "execution_count": 9,
   "metadata": {
    "ExecuteTime": {
     "end_time": "2020-09-29T19:48:22.447021Z",
     "start_time": "2020-09-29T19:46:44.718614Z"
    }
   },
   "outputs": [
    {
     "name": "stdout",
     "output_type": "stream",
     "text": [
      "<class 'pandas.core.frame.DataFrame'>\n",
      "RangeIndex: 10357547 entries, 0 to 10357546\n",
      "Data columns (total 19 columns):\n",
      " #   Column                     Dtype   \n",
      "---  ------                     -----   \n",
      " 0   id                         object  \n",
      " 1   identifier                 object  \n",
      " 2   type                       object  \n",
      " 3   title                      object  \n",
      " 4   rights                     object  \n",
      " 5   rights.1                   object  \n",
      " 6   UsageTerms                 object  \n",
      " 7   WebStatement               object  \n",
      " 8   licenseLogoURL             object  \n",
      " 9   source                     object  \n",
      " 10  creator                    object  \n",
      " 11  providerLiteral            category\n",
      " 12  description                string  \n",
      " 13  subjectCategoryVocabulary  object  \n",
      " 14  scientificName             float64 \n",
      " 15  accessURI                  object  \n",
      " 16  format                     object  \n",
      " 17  PixelXDimension            int64   \n",
      " 18  PixelYDimension            int64   \n",
      "dtypes: category(1), float64(1), int64(2), object(14), string(1)\n",
      "memory usage: 1.4+ GB\n"
     ]
    }
   ],
   "source": [
    "multimedia_df = pd.read_csv('nmnh_multimedia_1_35.tsv.gz', \n",
    "                            dtype={'providerLiteral':'category',\n",
    "                                   'description':'string'},\n",
    "                            sep='\\t', compression='gzip')\n",
    "multimedia_df.info()"
   ]
  },
  {
   "cell_type": "code",
   "execution_count": 10,
   "metadata": {
    "ExecuteTime": {
     "end_time": "2020-09-29T19:48:25.486655Z",
     "start_time": "2020-09-29T19:48:25.372903Z"
    }
   },
   "outputs": [
    {
     "data": {
      "text/plain": [
       "Smithsonian Institution, NMNH, Botany                   9257341\n",
       "Smithsonian Institution, NMNH, Mammals                   577050\n",
       "Smithsonian Institution, NMNH, Invertebrate Zoology      184797\n",
       "Smithsonian Institution, NMNH, Entomology                167637\n",
       "Smithsonian Institution, NMNH, Fishes                    134203\n",
       "Smithsonian Institution, NMNH, Birds                      23401\n",
       "Smithsonian Institution, NMNH, Amphibians & Reptiles      13118\n",
       "Name: providerLiteral, dtype: int64"
      ]
     },
     "execution_count": 10,
     "metadata": {},
     "output_type": "execute_result"
    }
   ],
   "source": [
    "multimedia_df['providerLiteral'].value_counts()"
   ]
  },
  {
   "cell_type": "code",
   "execution_count": 11,
   "metadata": {
    "ExecuteTime": {
     "end_time": "2020-09-29T19:49:09.588174Z",
     "start_time": "2020-09-29T19:48:26.587473Z"
    }
   },
   "outputs": [
    {
     "data": {
      "text/plain": [
       "5942814"
      ]
     },
     "execution_count": 11,
     "metadata": {},
     "output_type": "execute_result"
    }
   ],
   "source": [
    "len(multimedia_df[multimedia_df.duplicated(keep='first')])"
   ]
  },
  {
   "cell_type": "markdown",
   "metadata": {},
   "source": [
    "**Uh oh, it looks like somehow a large portion of the dataset has been duplicated?**"
   ]
  },
  {
   "cell_type": "code",
   "execution_count": 12,
   "metadata": {
    "ExecuteTime": {
     "end_time": "2020-09-29T19:49:52.304009Z",
     "start_time": "2020-09-29T19:49:09.590030Z"
    }
   },
   "outputs": [],
   "source": [
    "multimedia_df = multimedia_df.drop_duplicates()"
   ]
  },
  {
   "cell_type": "code",
   "execution_count": 13,
   "metadata": {
    "ExecuteTime": {
     "end_time": "2020-09-29T19:49:52.353849Z",
     "start_time": "2020-09-29T19:49:52.306393Z"
    }
   },
   "outputs": [
    {
     "data": {
      "text/plain": [
       "Smithsonian Institution, NMNH, Botany                   3314799\n",
       "Smithsonian Institution, NMNH, Mammals                   577050\n",
       "Smithsonian Institution, NMNH, Invertebrate Zoology      184706\n",
       "Smithsonian Institution, NMNH, Entomology                167637\n",
       "Smithsonian Institution, NMNH, Fishes                    134193\n",
       "Smithsonian Institution, NMNH, Birds                      23401\n",
       "Smithsonian Institution, NMNH, Amphibians & Reptiles      12947\n",
       "Name: providerLiteral, dtype: int64"
      ]
     },
     "execution_count": 13,
     "metadata": {},
     "output_type": "execute_result"
    }
   ],
   "source": [
    "multimedia_df['providerLiteral'].value_counts()"
   ]
  },
  {
   "cell_type": "code",
   "execution_count": 14,
   "metadata": {
    "ExecuteTime": {
     "end_time": "2020-09-29T19:49:56.548420Z",
     "start_time": "2020-09-29T19:49:52.355372Z"
    }
   },
   "outputs": [
    {
     "name": "stdout",
     "output_type": "stream",
     "text": [
      "<class 'pandas.core.frame.DataFrame'>\n",
      "Int64Index: 3219718 entries, 1091 to 10357542\n",
      "Data columns (total 19 columns):\n",
      " #   Column                     Dtype   \n",
      "---  ------                     -----   \n",
      " 0   id                         object  \n",
      " 1   identifier                 object  \n",
      " 2   type                       object  \n",
      " 3   title                      object  \n",
      " 4   rights                     object  \n",
      " 5   rights.1                   object  \n",
      " 6   UsageTerms                 object  \n",
      " 7   WebStatement               object  \n",
      " 8   licenseLogoURL             object  \n",
      " 9   source                     object  \n",
      " 10  creator                    object  \n",
      " 11  providerLiteral            category\n",
      " 12  description                string  \n",
      " 13  subjectCategoryVocabulary  object  \n",
      " 14  scientificName             float64 \n",
      " 15  accessURI                  object  \n",
      " 16  format                     object  \n",
      " 17  PixelXDimension            int64   \n",
      " 18  PixelYDimension            int64   \n",
      "dtypes: category(1), float64(1), int64(2), object(14), string(1)\n",
      "memory usage: 469.8+ MB\n"
     ]
    }
   ],
   "source": [
    "botany_barcodes = multimedia_df[(multimedia_df['providerLiteral'] == 'Smithsonian Institution, NMNH, Botany') &\\\n",
    "                                (multimedia_df['description']).str.lower().str.contains('barcode')].copy()\n",
    "botany_barcodes.info()"
   ]
  },
  {
   "cell_type": "code",
   "execution_count": 15,
   "metadata": {
    "ExecuteTime": {
     "end_time": "2020-09-29T19:49:56.702238Z",
     "start_time": "2020-09-29T19:49:56.551206Z"
    }
   },
   "outputs": [
    {
     "data": {
      "text/html": [
       "<div>\n",
       "<style scoped>\n",
       "    .dataframe tbody tr th:only-of-type {\n",
       "        vertical-align: middle;\n",
       "    }\n",
       "\n",
       "    .dataframe tbody tr th {\n",
       "        vertical-align: top;\n",
       "    }\n",
       "\n",
       "    .dataframe thead th {\n",
       "        text-align: right;\n",
       "    }\n",
       "</style>\n",
       "<table border=\"1\" class=\"dataframe\">\n",
       "  <thead>\n",
       "    <tr style=\"text-align: right;\">\n",
       "      <th></th>\n",
       "      <th>id</th>\n",
       "      <th>identifier</th>\n",
       "      <th>type</th>\n",
       "      <th>title</th>\n",
       "      <th>rights</th>\n",
       "      <th>rights.1</th>\n",
       "      <th>UsageTerms</th>\n",
       "      <th>WebStatement</th>\n",
       "      <th>licenseLogoURL</th>\n",
       "      <th>source</th>\n",
       "      <th>creator</th>\n",
       "      <th>providerLiteral</th>\n",
       "      <th>description</th>\n",
       "      <th>subjectCategoryVocabulary</th>\n",
       "      <th>scientificName</th>\n",
       "      <th>accessURI</th>\n",
       "      <th>format</th>\n",
       "      <th>PixelXDimension</th>\n",
       "      <th>PixelYDimension</th>\n",
       "    </tr>\n",
       "  </thead>\n",
       "  <tbody>\n",
       "    <tr>\n",
       "      <th>3122654</th>\n",
       "      <td>http://n2t.net/ark:/65665/37bad2ed7-d9d4-4296-...</td>\n",
       "      <td>http://collections.nmnh.si.edu/media/index.php...</td>\n",
       "      <td>image</td>\n",
       "      <td>03421802.tif</td>\n",
       "      <td>CC0</td>\n",
       "      <td>CC0</td>\n",
       "      <td>https://creativecommons.org/publicdomain/zero/...</td>\n",
       "      <td>https://naturalhistory.si.edu/research/nmnh-co...</td>\n",
       "      <td>https://www.si.edu/sites/default/files/icons/c...</td>\n",
       "      <td>US National Herbarium, Department of Botany, N...</td>\n",
       "      <td>Conveyor Belt</td>\n",
       "      <td>Smithsonian Institution, NMNH, Botany</td>\n",
       "      <td>Barcode 03421802</td>\n",
       "      <td>Specimen/Object</td>\n",
       "      <td>NaN</td>\n",
       "      <td>http://n2t.net/ark:/65665/m3fbd8c332-c077-4ebb...</td>\n",
       "      <td>tiff, jpeg, jpeg, jpeg, jpeg, jpeg</td>\n",
       "      <td>6770</td>\n",
       "      <td>8929</td>\n",
       "    </tr>\n",
       "    <tr>\n",
       "      <th>742898</th>\n",
       "      <td>http://n2t.net/ark:/65665/3c555b42a-d7b1-401d-...</td>\n",
       "      <td>http://collections.nmnh.si.edu/media/index.php...</td>\n",
       "      <td>image</td>\n",
       "      <td>01605638.tif</td>\n",
       "      <td>CC0</td>\n",
       "      <td>CC0</td>\n",
       "      <td>https://creativecommons.org/publicdomain/zero/...</td>\n",
       "      <td>https://naturalhistory.si.edu/research/nmnh-co...</td>\n",
       "      <td>https://www.si.edu/sites/default/files/icons/c...</td>\n",
       "      <td>US National Herbarium, Department of Botany, N...</td>\n",
       "      <td>Conveyor Belt</td>\n",
       "      <td>Smithsonian Institution, NMNH, Botany</td>\n",
       "      <td>Barcode 01605638</td>\n",
       "      <td>Specimen/Object</td>\n",
       "      <td>NaN</td>\n",
       "      <td>http://n2t.net/ark:/65665/m3afd5de9c-ed6c-43a2...</td>\n",
       "      <td>tiff, jpeg, jpeg, jpeg, jpeg, jpeg</td>\n",
       "      <td>6762</td>\n",
       "      <td>9004</td>\n",
       "    </tr>\n",
       "    <tr>\n",
       "      <th>3834870</th>\n",
       "      <td>http://n2t.net/ark:/65665/3331b5601-143a-4a1f-...</td>\n",
       "      <td>http://collections.nmnh.si.edu/media/index.php...</td>\n",
       "      <td>image</td>\n",
       "      <td>00069562.tif</td>\n",
       "      <td>CC0</td>\n",
       "      <td>CC0</td>\n",
       "      <td>https://creativecommons.org/publicdomain/zero/...</td>\n",
       "      <td>https://naturalhistory.si.edu/research/nmnh-co...</td>\n",
       "      <td>https://www.si.edu/sites/default/files/icons/c...</td>\n",
       "      <td>US National Herbarium, Department of Botany, N...</td>\n",
       "      <td>Sophia Lee</td>\n",
       "      <td>Smithsonian Institution, NMNH, Botany</td>\n",
       "      <td>Grubb, P. J. 2859, US National Herbarium Sheet...</td>\n",
       "      <td>Specimen/Object</td>\n",
       "      <td>NaN</td>\n",
       "      <td>http://n2t.net/ark:/65665/m318a7d23e-9de7-410d...</td>\n",
       "      <td>tiff, jpeg, jpeg, jpeg, jpeg, jpeg</td>\n",
       "      <td>3700</td>\n",
       "      <td>5368</td>\n",
       "    </tr>\n",
       "    <tr>\n",
       "      <th>1226719</th>\n",
       "      <td>http://n2t.net/ark:/65665/355749c65-b5df-4027-...</td>\n",
       "      <td>http://collections.nmnh.si.edu/media/index.php...</td>\n",
       "      <td>image</td>\n",
       "      <td>01923345.TIF</td>\n",
       "      <td>CC0</td>\n",
       "      <td>CC0</td>\n",
       "      <td>https://creativecommons.org/publicdomain/zero/...</td>\n",
       "      <td>https://naturalhistory.si.edu/research/nmnh-co...</td>\n",
       "      <td>https://www.si.edu/sites/default/files/icons/c...</td>\n",
       "      <td>NaN</td>\n",
       "      <td>Digitization Interns, Laura Tancredi</td>\n",
       "      <td>Smithsonian Institution, NMNH, Botany</td>\n",
       "      <td>Bartlett, H. H. 13105, US National Herbarium S...</td>\n",
       "      <td>Documentation</td>\n",
       "      <td>NaN</td>\n",
       "      <td>http://n2t.net/ark:/65665/m329e098b9-8e91-471d...</td>\n",
       "      <td>tiff, jpeg, jpeg, jpeg, jpeg, jpeg</td>\n",
       "      <td>3840</td>\n",
       "      <td>5760</td>\n",
       "    </tr>\n",
       "    <tr>\n",
       "      <th>10353045</th>\n",
       "      <td>http://n2t.net/ark:/65665/380447a4d-2b5d-40c6-...</td>\n",
       "      <td>http://collections.nmnh.si.edu/media/index.php...</td>\n",
       "      <td>image</td>\n",
       "      <td>00772564.tif</td>\n",
       "      <td>CC0</td>\n",
       "      <td>CC0</td>\n",
       "      <td>https://creativecommons.org/publicdomain/zero/...</td>\n",
       "      <td>https://naturalhistory.si.edu/research/nmnh-co...</td>\n",
       "      <td>https://www.si.edu/sites/default/files/icons/c...</td>\n",
       "      <td>US National Herbarium, Department of Botany, N...</td>\n",
       "      <td>Daniel Fernicola</td>\n",
       "      <td>Smithsonian Institution, NMNH, Botany</td>\n",
       "      <td>Stergios, B. G. 19777, US National Herbarium S...</td>\n",
       "      <td>Specimen/Object</td>\n",
       "      <td>NaN</td>\n",
       "      <td>http://n2t.net/ark:/65665/m343f7c289-46fa-469f...</td>\n",
       "      <td>tiff, jpeg, jpeg, jpeg, jpeg, jpeg</td>\n",
       "      <td>3744</td>\n",
       "      <td>5616</td>\n",
       "    </tr>\n",
       "  </tbody>\n",
       "</table>\n",
       "</div>"
      ],
      "text/plain": [
       "                                                         id  \\\n",
       "3122654   http://n2t.net/ark:/65665/37bad2ed7-d9d4-4296-...   \n",
       "742898    http://n2t.net/ark:/65665/3c555b42a-d7b1-401d-...   \n",
       "3834870   http://n2t.net/ark:/65665/3331b5601-143a-4a1f-...   \n",
       "1226719   http://n2t.net/ark:/65665/355749c65-b5df-4027-...   \n",
       "10353045  http://n2t.net/ark:/65665/380447a4d-2b5d-40c6-...   \n",
       "\n",
       "                                                 identifier   type  \\\n",
       "3122654   http://collections.nmnh.si.edu/media/index.php...  image   \n",
       "742898    http://collections.nmnh.si.edu/media/index.php...  image   \n",
       "3834870   http://collections.nmnh.si.edu/media/index.php...  image   \n",
       "1226719   http://collections.nmnh.si.edu/media/index.php...  image   \n",
       "10353045  http://collections.nmnh.si.edu/media/index.php...  image   \n",
       "\n",
       "                 title rights rights.1  \\\n",
       "3122654   03421802.tif    CC0      CC0   \n",
       "742898    01605638.tif    CC0      CC0   \n",
       "3834870   00069562.tif    CC0      CC0   \n",
       "1226719   01923345.TIF    CC0      CC0   \n",
       "10353045  00772564.tif    CC0      CC0   \n",
       "\n",
       "                                                 UsageTerms  \\\n",
       "3122654   https://creativecommons.org/publicdomain/zero/...   \n",
       "742898    https://creativecommons.org/publicdomain/zero/...   \n",
       "3834870   https://creativecommons.org/publicdomain/zero/...   \n",
       "1226719   https://creativecommons.org/publicdomain/zero/...   \n",
       "10353045  https://creativecommons.org/publicdomain/zero/...   \n",
       "\n",
       "                                               WebStatement  \\\n",
       "3122654   https://naturalhistory.si.edu/research/nmnh-co...   \n",
       "742898    https://naturalhistory.si.edu/research/nmnh-co...   \n",
       "3834870   https://naturalhistory.si.edu/research/nmnh-co...   \n",
       "1226719   https://naturalhistory.si.edu/research/nmnh-co...   \n",
       "10353045  https://naturalhistory.si.edu/research/nmnh-co...   \n",
       "\n",
       "                                             licenseLogoURL  \\\n",
       "3122654   https://www.si.edu/sites/default/files/icons/c...   \n",
       "742898    https://www.si.edu/sites/default/files/icons/c...   \n",
       "3834870   https://www.si.edu/sites/default/files/icons/c...   \n",
       "1226719   https://www.si.edu/sites/default/files/icons/c...   \n",
       "10353045  https://www.si.edu/sites/default/files/icons/c...   \n",
       "\n",
       "                                                     source  \\\n",
       "3122654   US National Herbarium, Department of Botany, N...   \n",
       "742898    US National Herbarium, Department of Botany, N...   \n",
       "3834870   US National Herbarium, Department of Botany, N...   \n",
       "1226719                                                 NaN   \n",
       "10353045  US National Herbarium, Department of Botany, N...   \n",
       "\n",
       "                                       creator  \\\n",
       "3122654                          Conveyor Belt   \n",
       "742898                           Conveyor Belt   \n",
       "3834870                             Sophia Lee   \n",
       "1226719   Digitization Interns, Laura Tancredi   \n",
       "10353045                      Daniel Fernicola   \n",
       "\n",
       "                                providerLiteral  \\\n",
       "3122654   Smithsonian Institution, NMNH, Botany   \n",
       "742898    Smithsonian Institution, NMNH, Botany   \n",
       "3834870   Smithsonian Institution, NMNH, Botany   \n",
       "1226719   Smithsonian Institution, NMNH, Botany   \n",
       "10353045  Smithsonian Institution, NMNH, Botany   \n",
       "\n",
       "                                                description  \\\n",
       "3122654                                    Barcode 03421802   \n",
       "742898                                     Barcode 01605638   \n",
       "3834870   Grubb, P. J. 2859, US National Herbarium Sheet...   \n",
       "1226719   Bartlett, H. H. 13105, US National Herbarium S...   \n",
       "10353045  Stergios, B. G. 19777, US National Herbarium S...   \n",
       "\n",
       "         subjectCategoryVocabulary  scientificName  \\\n",
       "3122654            Specimen/Object             NaN   \n",
       "742898             Specimen/Object             NaN   \n",
       "3834870            Specimen/Object             NaN   \n",
       "1226719              Documentation             NaN   \n",
       "10353045           Specimen/Object             NaN   \n",
       "\n",
       "                                                  accessURI  \\\n",
       "3122654   http://n2t.net/ark:/65665/m3fbd8c332-c077-4ebb...   \n",
       "742898    http://n2t.net/ark:/65665/m3afd5de9c-ed6c-43a2...   \n",
       "3834870   http://n2t.net/ark:/65665/m318a7d23e-9de7-410d...   \n",
       "1226719   http://n2t.net/ark:/65665/m329e098b9-8e91-471d...   \n",
       "10353045  http://n2t.net/ark:/65665/m343f7c289-46fa-469f...   \n",
       "\n",
       "                                      format  PixelXDimension  PixelYDimension  \n",
       "3122654   tiff, jpeg, jpeg, jpeg, jpeg, jpeg             6770             8929  \n",
       "742898    tiff, jpeg, jpeg, jpeg, jpeg, jpeg             6762             9004  \n",
       "3834870   tiff, jpeg, jpeg, jpeg, jpeg, jpeg             3700             5368  \n",
       "1226719   tiff, jpeg, jpeg, jpeg, jpeg, jpeg             3840             5760  \n",
       "10353045  tiff, jpeg, jpeg, jpeg, jpeg, jpeg             3744             5616  "
      ]
     },
     "execution_count": 15,
     "metadata": {},
     "output_type": "execute_result"
    }
   ],
   "source": [
    "botany_barcodes.sample(5)"
   ]
  },
  {
   "cell_type": "code",
   "execution_count": 16,
   "metadata": {
    "ExecuteTime": {
     "end_time": "2020-09-29T19:49:56.860060Z",
     "start_time": "2020-09-29T19:49:56.703542Z"
    }
   },
   "outputs": [
    {
     "data": {
      "text/plain": [
       "[{'id': 'http://n2t.net/ark:/65665/39674926d-4f71-4603-adfe-e380a3bdce74',\n",
       "  'identifier': 'http://collections.nmnh.si.edu/media/index.php?irn=13702418',\n",
       "  'type': 'image',\n",
       "  'title': '03349335.tif',\n",
       "  'rights': 'CC0',\n",
       "  'rights.1': 'CC0',\n",
       "  'UsageTerms': 'https://creativecommons.org/publicdomain/zero/1.0/',\n",
       "  'WebStatement': 'https://naturalhistory.si.edu/research/nmnh-collections/museum-collections-policies',\n",
       "  'licenseLogoURL': 'https://www.si.edu/sites/default/files/icons/cc0.svg',\n",
       "  'source': 'US National Herbarium, Department of Botany, NMNH, Smithsonian Institution',\n",
       "  'creator': 'Conveyor Belt',\n",
       "  'providerLiteral': 'Smithsonian Institution, NMNH, Botany',\n",
       "  'description': 'Barcode 03349335',\n",
       "  'subjectCategoryVocabulary': 'Specimen/Object',\n",
       "  'scientificName': nan,\n",
       "  'accessURI': 'http://n2t.net/ark:/65665/m34e0f736d-34ee-4d1f-9e30-181342c9b6d1',\n",
       "  'format': 'tiff, jpeg, jpeg, jpeg, jpeg, jpeg',\n",
       "  'PixelXDimension': 6823,\n",
       "  'PixelYDimension': 9015},\n",
       " {'id': 'http://n2t.net/ark:/65665/3cd8767bf-c839-4a15-b601-89b198e056b3',\n",
       "  'identifier': 'http://collections.nmnh.si.edu/media/index.php?irn=10568175',\n",
       "  'type': 'image',\n",
       "  'title': '00830649.tif',\n",
       "  'rights': 'CC0',\n",
       "  'rights.1': 'CC0',\n",
       "  'UsageTerms': 'https://creativecommons.org/publicdomain/zero/1.0/',\n",
       "  'WebStatement': 'https://naturalhistory.si.edu/research/nmnh-collections/museum-collections-policies',\n",
       "  'licenseLogoURL': 'https://www.si.edu/sites/default/files/icons/cc0.svg',\n",
       "  'source': nan,\n",
       "  'creator': nan,\n",
       "  'providerLiteral': 'Smithsonian Institution, NMNH, Botany',\n",
       "  'description': 'Gentry, H. S. 2903, US National Herbarium Sheet 1686817 Barcode 00830649',\n",
       "  'subjectCategoryVocabulary': 'Specimen/Object',\n",
       "  'scientificName': nan,\n",
       "  'accessURI': 'http://n2t.net/ark:/65665/m36de405e1-a0eb-4ac2-84d7-521fc72d4e1d',\n",
       "  'format': 'tiff, jpeg, jpeg, jpeg, jpeg, jpeg',\n",
       "  'PixelXDimension': 3868,\n",
       "  'PixelYDimension': 5108},\n",
       " {'id': 'http://n2t.net/ark:/65665/3c229c46c-e9fb-46dc-97d2-3a9ca25c8ba3',\n",
       "  'identifier': 'http://collections.nmnh.si.edu/media/index.php?irn=11247835',\n",
       "  'type': 'image',\n",
       "  'title': '01501017.tif',\n",
       "  'rights': 'CC0',\n",
       "  'rights.1': 'CC0',\n",
       "  'UsageTerms': 'https://creativecommons.org/publicdomain/zero/1.0/',\n",
       "  'WebStatement': 'https://naturalhistory.si.edu/research/nmnh-collections/museum-collections-policies',\n",
       "  'licenseLogoURL': 'https://www.si.edu/sites/default/files/icons/cc0.svg',\n",
       "  'source': 'US National Herbarium, Department of Botany, NMNH, Smithsonian Institution',\n",
       "  'creator': 'Conveyor Belt',\n",
       "  'providerLiteral': 'Smithsonian Institution, NMNH, Botany',\n",
       "  'description': 'Barcode 01501017',\n",
       "  'subjectCategoryVocabulary': 'Specimen/Object',\n",
       "  'scientificName': nan,\n",
       "  'accessURI': 'http://n2t.net/ark:/65665/m39883753b-521d-4eeb-a007-67bd900b56ba',\n",
       "  'format': 'tiff, jpeg, jpeg, jpeg, jpeg, jpeg',\n",
       "  'PixelXDimension': 6878,\n",
       "  'PixelYDimension': 9164},\n",
       " {'id': 'http://n2t.net/ark:/65665/3a7924b02-fc3b-4076-b50a-5b00c6455869',\n",
       "  'identifier': 'http://collections.nmnh.si.edu/media/index.php?irn=14495787',\n",
       "  'type': 'image',\n",
       "  'title': '03861384.tif',\n",
       "  'rights': 'Usage Conditions Apply',\n",
       "  'rights.1': 'Usage Conditions Apply',\n",
       "  'UsageTerms': 'https://www.si.edu/termsofuse',\n",
       "  'WebStatement': 'https://naturalhistory.si.edu/research/nmnh-collections/museum-collections-policies',\n",
       "  'licenseLogoURL': nan,\n",
       "  'source': 'US National Herbarium, Department of Botany, NMNH, Smithsonian Institution',\n",
       "  'creator': 'Conveyor Belt',\n",
       "  'providerLiteral': 'Smithsonian Institution, NMNH, Botany',\n",
       "  'description': 'Barcode 03861384',\n",
       "  'subjectCategoryVocabulary': 'Specimen/Object',\n",
       "  'scientificName': nan,\n",
       "  'accessURI': 'http://n2t.net/ark:/65665/m31f302afa-db8c-412b-aaa2-0eefeabdd298',\n",
       "  'format': 'tiff, jpeg, jpeg, jpeg, jpeg, jpeg',\n",
       "  'PixelXDimension': 6743,\n",
       "  'PixelYDimension': 8967},\n",
       " {'id': 'http://n2t.net/ark:/65665/380ba666d-4c1e-487a-a386-0f26ba2f8d8e',\n",
       "  'identifier': 'http://collections.nmnh.si.edu/media/index.php?irn=12794329',\n",
       "  'type': 'image',\n",
       "  'title': '02871927.tif',\n",
       "  'rights': 'CC0',\n",
       "  'rights.1': 'CC0',\n",
       "  'UsageTerms': 'https://creativecommons.org/publicdomain/zero/1.0/',\n",
       "  'WebStatement': 'https://naturalhistory.si.edu/research/nmnh-collections/museum-collections-policies',\n",
       "  'licenseLogoURL': 'https://www.si.edu/sites/default/files/icons/cc0.svg',\n",
       "  'source': 'US National Herbarium, Department of Botany, NMNH, Smithsonian Institution',\n",
       "  'creator': 'Conveyor Belt',\n",
       "  'providerLiteral': 'Smithsonian Institution, NMNH, Botany',\n",
       "  'description': 'Barcode 02871927',\n",
       "  'subjectCategoryVocabulary': 'Specimen/Object',\n",
       "  'scientificName': nan,\n",
       "  'accessURI': 'http://n2t.net/ark:/65665/m33e21ec53-c2c8-4ba4-874e-92512b6de866',\n",
       "  'format': 'tiff, jpeg, jpeg, jpeg, jpeg, jpeg',\n",
       "  'PixelXDimension': 6742,\n",
       "  'PixelYDimension': 8974}]"
      ]
     },
     "execution_count": 16,
     "metadata": {},
     "output_type": "execute_result"
    }
   ],
   "source": [
    "botany_barcodes.sample(5).to_dict(orient='records')"
   ]
  },
  {
   "cell_type": "code",
   "execution_count": 17,
   "metadata": {
    "ExecuteTime": {
     "end_time": "2020-09-29T19:49:56.870019Z",
     "start_time": "2020-09-29T19:49:56.862281Z"
    }
   },
   "outputs": [],
   "source": [
    "def extract_barcode(description_text):\n",
    "    space_split = description_text.lower().split()\n",
    "    barcode_idx = space_split.index('barcode')\n",
    "    if len(space_split) == barcode_idx + 1:\n",
    "        return np.nan\n",
    "    else:\n",
    "        barcode_number = space_split[barcode_idx + 1].strip('.').strip(',')\n",
    "        return barcode_number"
   ]
  },
  {
   "cell_type": "code",
   "execution_count": 18,
   "metadata": {
    "ExecuteTime": {
     "end_time": "2020-09-29T19:50:00.915795Z",
     "start_time": "2020-09-29T19:49:56.872741Z"
    }
   },
   "outputs": [
    {
     "data": {
      "text/html": [
       "<div>\n",
       "<style scoped>\n",
       "    .dataframe tbody tr th:only-of-type {\n",
       "        vertical-align: middle;\n",
       "    }\n",
       "\n",
       "    .dataframe tbody tr th {\n",
       "        vertical-align: top;\n",
       "    }\n",
       "\n",
       "    .dataframe thead th {\n",
       "        text-align: right;\n",
       "    }\n",
       "</style>\n",
       "<table border=\"1\" class=\"dataframe\">\n",
       "  <thead>\n",
       "    <tr style=\"text-align: right;\">\n",
       "      <th></th>\n",
       "      <th>description</th>\n",
       "      <th>barcode</th>\n",
       "    </tr>\n",
       "  </thead>\n",
       "  <tbody>\n",
       "    <tr>\n",
       "      <th>979875</th>\n",
       "      <td>Barcode 01110601</td>\n",
       "      <td>01110601</td>\n",
       "    </tr>\n",
       "    <tr>\n",
       "      <th>10172234</th>\n",
       "      <td>Barcode 03786451</td>\n",
       "      <td>03786451</td>\n",
       "    </tr>\n",
       "    <tr>\n",
       "      <th>2230489</th>\n",
       "      <td>Barcode 01818691</td>\n",
       "      <td>01818691</td>\n",
       "    </tr>\n",
       "    <tr>\n",
       "      <th>3172440</th>\n",
       "      <td>Barcode 02971914</td>\n",
       "      <td>02971914</td>\n",
       "    </tr>\n",
       "    <tr>\n",
       "      <th>3057720</th>\n",
       "      <td>Barcode 03212896</td>\n",
       "      <td>03212896</td>\n",
       "    </tr>\n",
       "    <tr>\n",
       "      <th>2470766</th>\n",
       "      <td>Barcode 01772268</td>\n",
       "      <td>01772268</td>\n",
       "    </tr>\n",
       "    <tr>\n",
       "      <th>3585884</th>\n",
       "      <td>Palmer, E. 973, US National Herbarium Sheet 20...</td>\n",
       "      <td>00894369</td>\n",
       "    </tr>\n",
       "    <tr>\n",
       "      <th>1377319</th>\n",
       "      <td>Barcode 00288822</td>\n",
       "      <td>00288822</td>\n",
       "    </tr>\n",
       "    <tr>\n",
       "      <th>2469909</th>\n",
       "      <td>Pringle, C. G. 9928, US National Herbarium She...</td>\n",
       "      <td>00817155</td>\n",
       "    </tr>\n",
       "    <tr>\n",
       "      <th>2653992</th>\n",
       "      <td>Barcode 02143277</td>\n",
       "      <td>02143277</td>\n",
       "    </tr>\n",
       "    <tr>\n",
       "      <th>2768659</th>\n",
       "      <td>Mago, C. NGF 17161, US National Herbarium Shee...</td>\n",
       "      <td>00881931</td>\n",
       "    </tr>\n",
       "    <tr>\n",
       "      <th>1745558</th>\n",
       "      <td>Barcode 02925439</td>\n",
       "      <td>02925439</td>\n",
       "    </tr>\n",
       "    <tr>\n",
       "      <th>1779527</th>\n",
       "      <td>Barcode 01421267</td>\n",
       "      <td>01421267</td>\n",
       "    </tr>\n",
       "    <tr>\n",
       "      <th>2067720</th>\n",
       "      <td>Barcode 00687094</td>\n",
       "      <td>00687094</td>\n",
       "    </tr>\n",
       "    <tr>\n",
       "      <th>2866347</th>\n",
       "      <td>Barcode 03123309</td>\n",
       "      <td>03123309</td>\n",
       "    </tr>\n",
       "    <tr>\n",
       "      <th>10301083</th>\n",
       "      <td>Barcode 03944410</td>\n",
       "      <td>03944410</td>\n",
       "    </tr>\n",
       "    <tr>\n",
       "      <th>1787869</th>\n",
       "      <td>Barcode 02194581</td>\n",
       "      <td>02194581</td>\n",
       "    </tr>\n",
       "    <tr>\n",
       "      <th>2824953</th>\n",
       "      <td>Barcode 01100101</td>\n",
       "      <td>01100101</td>\n",
       "    </tr>\n",
       "    <tr>\n",
       "      <th>3300744</th>\n",
       "      <td>Barcode 01437405</td>\n",
       "      <td>01437405</td>\n",
       "    </tr>\n",
       "    <tr>\n",
       "      <th>3315280</th>\n",
       "      <td>Barcode 03390478</td>\n",
       "      <td>03390478</td>\n",
       "    </tr>\n",
       "  </tbody>\n",
       "</table>\n",
       "</div>"
      ],
      "text/plain": [
       "                                                description   barcode\n",
       "979875                                     Barcode 01110601  01110601\n",
       "10172234                                   Barcode 03786451  03786451\n",
       "2230489                                    Barcode 01818691  01818691\n",
       "3172440                                    Barcode 02971914  02971914\n",
       "3057720                                    Barcode 03212896  03212896\n",
       "2470766                                    Barcode 01772268  01772268\n",
       "3585884   Palmer, E. 973, US National Herbarium Sheet 20...  00894369\n",
       "1377319                                    Barcode 00288822  00288822\n",
       "2469909   Pringle, C. G. 9928, US National Herbarium She...  00817155\n",
       "2653992                                    Barcode 02143277  02143277\n",
       "2768659   Mago, C. NGF 17161, US National Herbarium Shee...  00881931\n",
       "1745558                                    Barcode 02925439  02925439\n",
       "1779527                                    Barcode 01421267  01421267\n",
       "2067720                                    Barcode 00687094  00687094\n",
       "2866347                                    Barcode 03123309  03123309\n",
       "10301083                                   Barcode 03944410  03944410\n",
       "1787869                                    Barcode 02194581  02194581\n",
       "2824953                                    Barcode 01100101  01100101\n",
       "3300744                                    Barcode 01437405  01437405\n",
       "3315280                                    Barcode 03390478  03390478"
      ]
     },
     "execution_count": 18,
     "metadata": {},
     "output_type": "execute_result"
    }
   ],
   "source": [
    "botany_barcodes['barcode'] = botany_barcodes['description'].apply(extract_barcode)\n",
    "botany_barcodes[['description','barcode']].sample(20)"
   ]
  },
  {
   "cell_type": "code",
   "execution_count": 19,
   "metadata": {
    "ExecuteTime": {
     "end_time": "2020-09-29T19:50:02.003585Z",
     "start_time": "2020-09-29T19:50:00.917681Z"
    }
   },
   "outputs": [
    {
     "data": {
      "text/plain": [
       "8.0     3219629\n",
       "7.0           3\n",
       "19.0          1\n",
       "11.0          1\n",
       "2.0           1\n",
       "Name: barcode_len, dtype: int64"
      ]
     },
     "execution_count": 19,
     "metadata": {},
     "output_type": "execute_result"
    }
   ],
   "source": [
    "botany_barcodes['barcode_len'] = botany_barcodes['barcode'].str.len()\n",
    "botany_barcodes['barcode_len'].value_counts()"
   ]
  },
  {
   "cell_type": "code",
   "execution_count": 23,
   "metadata": {
    "ExecuteTime": {
     "end_time": "2020-09-29T19:51:45.208228Z",
     "start_time": "2020-09-29T19:51:41.395531Z"
    }
   },
   "outputs": [
    {
     "name": "stdout",
     "output_type": "stream",
     "text": [
      "<class 'pandas.core.frame.DataFrame'>\n",
      "Int64Index: 18823 entries, 0 to 18822\n",
      "Data columns (total 22 columns):\n",
      " #   Column                     Non-Null Count  Dtype   \n",
      "---  ------                     --------------  -----   \n",
      " 0   barcode                    18823 non-null  object  \n",
      " 1   stain_status               18823 non-null  object  \n",
      " 2   id                         18661 non-null  object  \n",
      " 3   identifier                 18661 non-null  object  \n",
      " 4   type                       18661 non-null  object  \n",
      " 5   title                      18661 non-null  object  \n",
      " 6   rights                     18661 non-null  object  \n",
      " 7   rights.1                   18661 non-null  object  \n",
      " 8   UsageTerms                 18661 non-null  object  \n",
      " 9   WebStatement               18661 non-null  object  \n",
      " 10  licenseLogoURL             16506 non-null  object  \n",
      " 11  source                     18527 non-null  object  \n",
      " 12  creator                    18519 non-null  object  \n",
      " 13  providerLiteral            18661 non-null  category\n",
      " 14  description                18661 non-null  string  \n",
      " 15  subjectCategoryVocabulary  18661 non-null  object  \n",
      " 16  scientificName             0 non-null      float64 \n",
      " 17  accessURI                  18661 non-null  object  \n",
      " 18  format                     18661 non-null  object  \n",
      " 19  PixelXDimension            18661 non-null  float64 \n",
      " 20  PixelYDimension            18661 non-null  float64 \n",
      " 21  barcode_len                18661 non-null  float64 \n",
      "dtypes: category(1), float64(4), object(16), string(1)\n",
      "memory usage: 3.2+ MB\n"
     ]
    }
   ],
   "source": [
    "mercury_merge = stain_status_df.merge(botany_barcodes, on='barcode', how='left')\n",
    "mercury_merge.info()"
   ]
  },
  {
   "cell_type": "code",
   "execution_count": 24,
   "metadata": {
    "ExecuteTime": {
     "end_time": "2020-09-29T19:53:14.241287Z",
     "start_time": "2020-09-29T19:53:14.230409Z"
    }
   },
   "outputs": [
    {
     "data": {
      "text/plain": [
       "3272"
      ]
     },
     "execution_count": 24,
     "metadata": {},
     "output_type": "execute_result"
    }
   ],
   "source": [
    "len(mercury_merge[mercury_merge.duplicated(subset='barcode')])"
   ]
  },
  {
   "cell_type": "markdown",
   "metadata": {},
   "source": [
    "**Uh oh, even after dropping complete duplicate records, there are still 3272 duplicate barcodes**"
   ]
  },
  {
   "cell_type": "code",
   "execution_count": 25,
   "metadata": {
    "ExecuteTime": {
     "end_time": "2020-09-29T19:53:58.926519Z",
     "start_time": "2020-09-29T19:53:58.879700Z"
    }
   },
   "outputs": [
    {
     "data": {
      "text/plain": [
       "[{'barcode': '00000209',\n",
       "  'stain_status': 'stained',\n",
       "  'id': 'http://n2t.net/ark:/65665/350435d2c-8228-4f1c-b2ed-99b4bb0ab20d',\n",
       "  'identifier': 'http://collections.nmnh.si.edu/media/index.php?irn=10142667',\n",
       "  'type': 'image',\n",
       "  'title': '00000209.tif',\n",
       "  'rights': 'CC0',\n",
       "  'rights.1': 'CC0',\n",
       "  'UsageTerms': 'https://creativecommons.org/publicdomain/zero/1.0/',\n",
       "  'WebStatement': 'https://naturalhistory.si.edu/research/nmnh-collections/museum-collections-policies',\n",
       "  'licenseLogoURL': 'https://www.si.edu/sites/default/files/icons/cc0.svg',\n",
       "  'source': 'Specimen from Department of Botany, NMNH, Smithsonian Institution',\n",
       "  'creator': 'Ingrid P. Lin',\n",
       "  'providerLiteral': 'Smithsonian Institution, NMNH, Botany',\n",
       "  'description': 'US National Herbarium specimen, barcode 00000209',\n",
       "  'subjectCategoryVocabulary': 'Specimen/Object',\n",
       "  'scientificName': nan,\n",
       "  'accessURI': 'http://n2t.net/ark:/65665/m3325dc959-7428-4973-b804-f4c8273d7cbc',\n",
       "  'format': 'tiff, jpeg, jpeg, jpeg, jpeg, jpeg',\n",
       "  'PixelXDimension': 7319.0,\n",
       "  'PixelYDimension': 10319.0,\n",
       "  'barcode_len': 8.0},\n",
       " {'barcode': '00000209',\n",
       "  'stain_status': 'stained',\n",
       "  'id': 'http://n2t.net/ark:/65665/3ce233bf5-d0e1-4967-9d59-acc0726d5588',\n",
       "  'identifier': 'http://collections.nmnh.si.edu/media/index.php?irn=10142667',\n",
       "  'type': 'image',\n",
       "  'title': '00000209.tif',\n",
       "  'rights': 'CC0',\n",
       "  'rights.1': 'CC0',\n",
       "  'UsageTerms': 'https://creativecommons.org/publicdomain/zero/1.0/',\n",
       "  'WebStatement': 'https://naturalhistory.si.edu/research/nmnh-collections/museum-collections-policies',\n",
       "  'licenseLogoURL': 'https://www.si.edu/sites/default/files/icons/cc0.svg',\n",
       "  'source': 'Specimen from Department of Botany, NMNH, Smithsonian Institution',\n",
       "  'creator': 'Ingrid P. Lin',\n",
       "  'providerLiteral': 'Smithsonian Institution, NMNH, Botany',\n",
       "  'description': 'US National Herbarium specimen, barcode 00000209',\n",
       "  'subjectCategoryVocabulary': 'Specimen/Object',\n",
       "  'scientificName': nan,\n",
       "  'accessURI': 'http://n2t.net/ark:/65665/m3325dc959-7428-4973-b804-f4c8273d7cbc',\n",
       "  'format': 'tiff, jpeg, jpeg, jpeg, jpeg, jpeg',\n",
       "  'PixelXDimension': 7319.0,\n",
       "  'PixelYDimension': 10319.0,\n",
       "  'barcode_len': 8.0},\n",
       " {'barcode': '00004828',\n",
       "  'stain_status': 'unstained',\n",
       "  'id': 'http://n2t.net/ark:/65665/318376e79-5027-4111-94d6-5b499fc476cd',\n",
       "  'identifier': 'http://collections.nmnh.si.edu/media/index.php?irn=10140708',\n",
       "  'type': 'image',\n",
       "  'title': '00004828.tif',\n",
       "  'rights': 'CC0',\n",
       "  'rights.1': 'CC0',\n",
       "  'UsageTerms': 'https://creativecommons.org/publicdomain/zero/1.0/',\n",
       "  'WebStatement': 'https://naturalhistory.si.edu/research/nmnh-collections/museum-collections-policies',\n",
       "  'licenseLogoURL': 'https://www.si.edu/sites/default/files/icons/cc0.svg',\n",
       "  'source': 'Specimen from Department of Botany, NMNH, Smithsonian Institution',\n",
       "  'creator': 'Ingrid P. Lin',\n",
       "  'providerLiteral': 'Smithsonian Institution, NMNH, Botany',\n",
       "  'description': 'US National Herbarium specimen, barcode 00004828',\n",
       "  'subjectCategoryVocabulary': 'Specimen/Object',\n",
       "  'scientificName': nan,\n",
       "  'accessURI': 'http://n2t.net/ark:/65665/m3e433107f-ca89-4bd7-8b0e-17a6f3ea9131',\n",
       "  'format': 'tiff, jpeg, jpeg, jpeg, jpeg, jpeg',\n",
       "  'PixelXDimension': 7319.0,\n",
       "  'PixelYDimension': 10319.0,\n",
       "  'barcode_len': 8.0},\n",
       " {'barcode': '00004828',\n",
       "  'stain_status': 'unstained',\n",
       "  'id': 'http://n2t.net/ark:/65665/34e44b875-4b53-4988-b1b4-6ecd51eb8789',\n",
       "  'identifier': 'http://collections.nmnh.si.edu/media/index.php?irn=10140708',\n",
       "  'type': 'image',\n",
       "  'title': '00004828.tif',\n",
       "  'rights': 'CC0',\n",
       "  'rights.1': 'CC0',\n",
       "  'UsageTerms': 'https://creativecommons.org/publicdomain/zero/1.0/',\n",
       "  'WebStatement': 'https://naturalhistory.si.edu/research/nmnh-collections/museum-collections-policies',\n",
       "  'licenseLogoURL': 'https://www.si.edu/sites/default/files/icons/cc0.svg',\n",
       "  'source': 'Specimen from Department of Botany, NMNH, Smithsonian Institution',\n",
       "  'creator': 'Ingrid P. Lin',\n",
       "  'providerLiteral': 'Smithsonian Institution, NMNH, Botany',\n",
       "  'description': 'US National Herbarium specimen, barcode 00004828',\n",
       "  'subjectCategoryVocabulary': 'Specimen/Object',\n",
       "  'scientificName': nan,\n",
       "  'accessURI': 'http://n2t.net/ark:/65665/m3e433107f-ca89-4bd7-8b0e-17a6f3ea9131',\n",
       "  'format': 'tiff, jpeg, jpeg, jpeg, jpeg, jpeg',\n",
       "  'PixelXDimension': 7319.0,\n",
       "  'PixelYDimension': 10319.0,\n",
       "  'barcode_len': 8.0},\n",
       " {'barcode': '00008112',\n",
       "  'stain_status': 'unstained',\n",
       "  'id': 'http://n2t.net/ark:/65665/3b564ffc4-bb51-4d4f-bc7e-f00ff36c50e9',\n",
       "  'identifier': 'http://collections.nmnh.si.edu/media/index.php?irn=10143040',\n",
       "  'type': 'image',\n",
       "  'title': '00008112.tif',\n",
       "  'rights': 'CC0',\n",
       "  'rights.1': 'CC0',\n",
       "  'UsageTerms': 'https://creativecommons.org/publicdomain/zero/1.0/',\n",
       "  'WebStatement': 'https://naturalhistory.si.edu/research/nmnh-collections/museum-collections-policies',\n",
       "  'licenseLogoURL': 'https://www.si.edu/sites/default/files/icons/cc0.svg',\n",
       "  'source': 'Specimen from Department of Botany, NMNH, Smithsonian Institution',\n",
       "  'creator': 'Ingrid P. Lin',\n",
       "  'providerLiteral': 'Smithsonian Institution, NMNH, Botany',\n",
       "  'description': 'Lebrun, J. 5019, US National Herbarium Sheet 2155406 Barcode 00008112',\n",
       "  'subjectCategoryVocabulary': 'Specimen/Object',\n",
       "  'scientificName': nan,\n",
       "  'accessURI': 'http://n2t.net/ark:/65665/m37632c5c8-0120-45a8-ba95-5b837eb53710',\n",
       "  'format': 'tiff, jpeg, jpeg, jpeg, jpeg, jpeg',\n",
       "  'PixelXDimension': 2032.0,\n",
       "  'PixelYDimension': 2648.0,\n",
       "  'barcode_len': 8.0},\n",
       " {'barcode': '00008112',\n",
       "  'stain_status': 'unstained',\n",
       "  'id': 'http://n2t.net/ark:/65665/379a2f0aa-9747-4c72-9fb6-8f4a6a52d2c7',\n",
       "  'identifier': 'http://collections.nmnh.si.edu/media/index.php?irn=10143040',\n",
       "  'type': 'image',\n",
       "  'title': '00008112.tif',\n",
       "  'rights': 'CC0',\n",
       "  'rights.1': 'CC0',\n",
       "  'UsageTerms': 'https://creativecommons.org/publicdomain/zero/1.0/',\n",
       "  'WebStatement': 'https://naturalhistory.si.edu/research/nmnh-collections/museum-collections-policies',\n",
       "  'licenseLogoURL': 'https://www.si.edu/sites/default/files/icons/cc0.svg',\n",
       "  'source': 'Specimen from Department of Botany, NMNH, Smithsonian Institution',\n",
       "  'creator': 'Ingrid P. Lin',\n",
       "  'providerLiteral': 'Smithsonian Institution, NMNH, Botany',\n",
       "  'description': 'Lebrun, J. 5019, US National Herbarium Sheet 2155406 Barcode 00008112',\n",
       "  'subjectCategoryVocabulary': 'Specimen/Object',\n",
       "  'scientificName': nan,\n",
       "  'accessURI': 'http://n2t.net/ark:/65665/m37632c5c8-0120-45a8-ba95-5b837eb53710',\n",
       "  'format': 'tiff, jpeg, jpeg, jpeg, jpeg, jpeg',\n",
       "  'PixelXDimension': 2032.0,\n",
       "  'PixelYDimension': 2648.0,\n",
       "  'barcode_len': 8.0},\n",
       " {'barcode': '00011659',\n",
       "  'stain_status': 'unstained',\n",
       "  'id': 'http://n2t.net/ark:/65665/36413ec8d-8cdc-4aa4-8b25-856013ecc836',\n",
       "  'identifier': 'http://collections.nmnh.si.edu/media/index.php?irn=10079787',\n",
       "  'type': 'image',\n",
       "  'title': '00011659.tif',\n",
       "  'rights': 'CC0',\n",
       "  'rights.1': 'CC0',\n",
       "  'UsageTerms': 'https://creativecommons.org/publicdomain/zero/1.0/',\n",
       "  'WebStatement': 'https://naturalhistory.si.edu/research/nmnh-collections/museum-collections-policies',\n",
       "  'licenseLogoURL': 'https://www.si.edu/sites/default/files/icons/cc0.svg',\n",
       "  'source': 'Specimen from Department of Botany, NMNH, Smithsonian Institution',\n",
       "  'creator': 'Ingrid P. Lin',\n",
       "  'providerLiteral': 'Smithsonian Institution, NMNH, Botany',\n",
       "  'description': 'US National Herbarium specimen, barcode 00011659',\n",
       "  'subjectCategoryVocabulary': 'Specimen/Object',\n",
       "  'scientificName': nan,\n",
       "  'accessURI': 'http://n2t.net/ark:/65665/m3dd74b9b9-094e-4883-8365-efb0919819f3',\n",
       "  'format': 'tiff, jpeg, jpeg, jpeg, jpeg, jpeg',\n",
       "  'PixelXDimension': 7319.0,\n",
       "  'PixelYDimension': 10319.0,\n",
       "  'barcode_len': 8.0},\n",
       " {'barcode': '00011659',\n",
       "  'stain_status': 'unstained',\n",
       "  'id': 'http://n2t.net/ark:/65665/38f3c2547-f60f-4830-b526-a5bb2207ef98',\n",
       "  'identifier': 'http://collections.nmnh.si.edu/media/index.php?irn=14574018',\n",
       "  'type': 'image',\n",
       "  'title': '00011659.tif',\n",
       "  'rights': 'Usage Conditions Apply',\n",
       "  'rights.1': 'Usage Conditions Apply',\n",
       "  'UsageTerms': 'https://www.si.edu/termsofuse',\n",
       "  'WebStatement': 'https://naturalhistory.si.edu/research/nmnh-collections/museum-collections-policies',\n",
       "  'licenseLogoURL': nan,\n",
       "  'source': 'US National Herbarium, Department of Botany, NMNH, Smithsonian Institution',\n",
       "  'creator': 'Ingrid P. Lin',\n",
       "  'providerLiteral': 'Smithsonian Institution, NMNH, Botany',\n",
       "  'description': 'Smith, D. N. 7730, US National Herbarium Sheet 3071957, Barcode 00011659',\n",
       "  'subjectCategoryVocabulary': 'Specimen/Object',\n",
       "  'scientificName': nan,\n",
       "  'accessURI': 'http://n2t.net/ark:/65665/m3b0e1f95d-58ee-46eb-bb7a-f5282c0d3ee6',\n",
       "  'format': 'tiff, jpeg, jpeg, jpeg, jpeg, jpeg',\n",
       "  'PixelXDimension': 1996.0,\n",
       "  'PixelYDimension': 2640.0,\n",
       "  'barcode_len': 8.0},\n",
       " {'barcode': '00012066',\n",
       "  'stain_status': 'unstained',\n",
       "  'id': 'http://n2t.net/ark:/65665/36796c145-04c7-4c51-a5ca-492ed683191d',\n",
       "  'identifier': 'http://collections.nmnh.si.edu/media/index.php?irn=10142682',\n",
       "  'type': 'image',\n",
       "  'title': '00012066.tif',\n",
       "  'rights': 'CC0',\n",
       "  'rights.1': 'CC0',\n",
       "  'UsageTerms': 'https://creativecommons.org/publicdomain/zero/1.0/',\n",
       "  'WebStatement': 'https://naturalhistory.si.edu/research/nmnh-collections/museum-collections-policies',\n",
       "  'licenseLogoURL': 'https://www.si.edu/sites/default/files/icons/cc0.svg',\n",
       "  'source': 'Specimen from Department of Botany, NMNH, Smithsonian Institution',\n",
       "  'creator': 'Ingrid P. Lin',\n",
       "  'providerLiteral': 'Smithsonian Institution, NMNH, Botany',\n",
       "  'description': 'US National Herbarium specimen, barcode 00012066',\n",
       "  'subjectCategoryVocabulary': 'Specimen/Object',\n",
       "  'scientificName': nan,\n",
       "  'accessURI': 'http://n2t.net/ark:/65665/m35f2e79aa-a4ae-4991-bda7-1699dbaa5b67',\n",
       "  'format': 'tiff, jpeg, jpeg, jpeg, jpeg, jpeg',\n",
       "  'PixelXDimension': 7319.0,\n",
       "  'PixelYDimension': 10319.0,\n",
       "  'barcode_len': 8.0},\n",
       " {'barcode': '00012066',\n",
       "  'stain_status': 'unstained',\n",
       "  'id': 'http://n2t.net/ark:/65665/3a093da7b-728d-47f1-8bd9-6cee56b14c39',\n",
       "  'identifier': 'http://collections.nmnh.si.edu/media/index.php?irn=10142682',\n",
       "  'type': 'image',\n",
       "  'title': '00012066.tif',\n",
       "  'rights': 'CC0',\n",
       "  'rights.1': 'CC0',\n",
       "  'UsageTerms': 'https://creativecommons.org/publicdomain/zero/1.0/',\n",
       "  'WebStatement': 'https://naturalhistory.si.edu/research/nmnh-collections/museum-collections-policies',\n",
       "  'licenseLogoURL': 'https://www.si.edu/sites/default/files/icons/cc0.svg',\n",
       "  'source': 'Specimen from Department of Botany, NMNH, Smithsonian Institution',\n",
       "  'creator': 'Ingrid P. Lin',\n",
       "  'providerLiteral': 'Smithsonian Institution, NMNH, Botany',\n",
       "  'description': 'US National Herbarium specimen, barcode 00012066',\n",
       "  'subjectCategoryVocabulary': 'Specimen/Object',\n",
       "  'scientificName': nan,\n",
       "  'accessURI': 'http://n2t.net/ark:/65665/m35f2e79aa-a4ae-4991-bda7-1699dbaa5b67',\n",
       "  'format': 'tiff, jpeg, jpeg, jpeg, jpeg, jpeg',\n",
       "  'PixelXDimension': 7319.0,\n",
       "  'PixelYDimension': 10319.0,\n",
       "  'barcode_len': 8.0}]"
      ]
     },
     "execution_count": 25,
     "metadata": {},
     "output_type": "execute_result"
    }
   ],
   "source": [
    "mercury_merge[mercury_merge.duplicated(subset='barcode',keep=False)].sort_values('barcode').head(10).to_dict(orient='records')"
   ]
  },
  {
   "cell_type": "markdown",
   "metadata": {},
   "source": [
    "The first duplicate barcode (00000209) appears to have 2 different specimen IDs:\n",
    "\n",
    "* http://n2t.net/ark:/65665/3ce233bf5-d0e1-4967-9d59-acc0726d5588\n",
    "* http://n2t.net/ark:/65665/350435d2c-8228-4f1c-b2ed-99b4bb0ab20d\n",
    "\n",
    "It shows the same herbarium sheet, but the 2 links have slightly different specimen data. This is because there are 2 different specimens on the same sheet!"
   ]
  },
  {
   "cell_type": "code",
   "execution_count": 26,
   "metadata": {
    "ExecuteTime": {
     "end_time": "2020-09-29T19:55:09.378827Z",
     "start_time": "2020-09-29T19:55:09.340293Z"
    }
   },
   "outputs": [
    {
     "name": "stdout",
     "output_type": "stream",
     "text": [
      "<class 'pandas.core.frame.DataFrame'>\n",
      "Int64Index: 12306 entries, 0 to 18822\n",
      "Data columns (total 22 columns):\n",
      " #   Column                     Non-Null Count  Dtype   \n",
      "---  ------                     --------------  -----   \n",
      " 0   barcode                    12306 non-null  object  \n",
      " 1   stain_status               12306 non-null  object  \n",
      " 2   id                         12144 non-null  object  \n",
      " 3   identifier                 12144 non-null  object  \n",
      " 4   type                       12144 non-null  object  \n",
      " 5   title                      12144 non-null  object  \n",
      " 6   rights                     12144 non-null  object  \n",
      " 7   rights.1                   12144 non-null  object  \n",
      " 8   UsageTerms                 12144 non-null  object  \n",
      " 9   WebStatement               12144 non-null  object  \n",
      " 10  licenseLogoURL             11230 non-null  object  \n",
      " 11  source                     12020 non-null  object  \n",
      " 12  creator                    12027 non-null  object  \n",
      " 13  providerLiteral            12144 non-null  category\n",
      " 14  description                12144 non-null  string  \n",
      " 15  subjectCategoryVocabulary  12144 non-null  object  \n",
      " 16  scientificName             0 non-null      float64 \n",
      " 17  accessURI                  12144 non-null  object  \n",
      " 18  format                     12144 non-null  object  \n",
      " 19  PixelXDimension            12144 non-null  float64 \n",
      " 20  PixelYDimension            12144 non-null  float64 \n",
      " 21  barcode_len                12144 non-null  float64 \n",
      "dtypes: category(1), float64(4), object(16), string(1)\n",
      "memory usage: 2.1+ MB\n"
     ]
    }
   ],
   "source": [
    "single_sheets = mercury_merge.drop_duplicates(subset='barcode',keep=False)\n",
    "single_sheets.info()"
   ]
  },
  {
   "cell_type": "code",
   "execution_count": 27,
   "metadata": {
    "ExecuteTime": {
     "end_time": "2020-09-29T19:55:31.779347Z",
     "start_time": "2020-09-29T19:55:31.771538Z"
    }
   },
   "outputs": [
    {
     "data": {
      "text/plain": [
       "CC0                       11230\n",
       "Usage Conditions Apply      914\n",
       "Name: rights, dtype: int64"
      ]
     },
     "execution_count": 27,
     "metadata": {},
     "output_type": "execute_result"
    }
   ],
   "source": [
    "single_sheets['rights'].value_counts()"
   ]
  },
  {
   "cell_type": "code",
   "execution_count": 28,
   "metadata": {
    "ExecuteTime": {
     "end_time": "2020-09-30T12:20:48.677038Z",
     "start_time": "2020-09-30T12:20:46.779495Z"
    }
   },
   "outputs": [
    {
     "data": {
      "text/html": [
       "<div>\n",
       "<style scoped>\n",
       "    .dataframe tbody tr th:only-of-type {\n",
       "        vertical-align: middle;\n",
       "    }\n",
       "\n",
       "    .dataframe tbody tr th {\n",
       "        vertical-align: top;\n",
       "    }\n",
       "\n",
       "    .dataframe thead th {\n",
       "        text-align: right;\n",
       "    }\n",
       "</style>\n",
       "<table border=\"1\" class=\"dataframe\">\n",
       "  <thead>\n",
       "    <tr style=\"text-align: right;\">\n",
       "      <th></th>\n",
       "      <th>barcode</th>\n",
       "      <th>stain_status</th>\n",
       "      <th>id</th>\n",
       "      <th>identifier</th>\n",
       "      <th>type</th>\n",
       "      <th>title</th>\n",
       "      <th>rights</th>\n",
       "      <th>rights.1</th>\n",
       "      <th>UsageTerms</th>\n",
       "      <th>WebStatement</th>\n",
       "      <th>...</th>\n",
       "      <th>creator</th>\n",
       "      <th>providerLiteral</th>\n",
       "      <th>description</th>\n",
       "      <th>subjectCategoryVocabulary</th>\n",
       "      <th>scientificName</th>\n",
       "      <th>accessURI</th>\n",
       "      <th>format</th>\n",
       "      <th>PixelXDimension</th>\n",
       "      <th>PixelYDimension</th>\n",
       "      <th>barcode_len</th>\n",
       "    </tr>\n",
       "  </thead>\n",
       "  <tbody>\n",
       "    <tr>\n",
       "      <th>0</th>\n",
       "      <td>00000140</td>\n",
       "      <td>stained</td>\n",
       "      <td>http://n2t.net/ark:/65665/3b487a6b2-3b6f-4b94-...</td>\n",
       "      <td>http://collections.nmnh.si.edu/media/index.php...</td>\n",
       "      <td>image</td>\n",
       "      <td>00000140.tif</td>\n",
       "      <td>CC0</td>\n",
       "      <td>CC0</td>\n",
       "      <td>https://creativecommons.org/publicdomain/zero/...</td>\n",
       "      <td>https://naturalhistory.si.edu/research/nmnh-co...</td>\n",
       "      <td>...</td>\n",
       "      <td>Ingrid P. Lin</td>\n",
       "      <td>Smithsonian Institution, NMNH, Botany</td>\n",
       "      <td>US National Herbarium specimen, barcode 00000140</td>\n",
       "      <td>Specimen/Object</td>\n",
       "      <td>NaN</td>\n",
       "      <td>http://n2t.net/ark:/65665/m36e1bbdd7-8c33-4a87...</td>\n",
       "      <td>tiff, jpeg, jpeg, jpeg, jpeg, jpeg</td>\n",
       "      <td>7319.0</td>\n",
       "      <td>10319.0</td>\n",
       "      <td>8.0</td>\n",
       "    </tr>\n",
       "    <tr>\n",
       "      <th>1</th>\n",
       "      <td>00000162</td>\n",
       "      <td>stained</td>\n",
       "      <td>http://n2t.net/ark:/65665/344cc518e-410d-47d3-...</td>\n",
       "      <td>http://collections.nmnh.si.edu/media/index.php...</td>\n",
       "      <td>image</td>\n",
       "      <td>00000162.tif</td>\n",
       "      <td>CC0</td>\n",
       "      <td>CC0</td>\n",
       "      <td>https://creativecommons.org/publicdomain/zero/...</td>\n",
       "      <td>https://naturalhistory.si.edu/research/nmnh-co...</td>\n",
       "      <td>...</td>\n",
       "      <td>Ingrid P. Lin</td>\n",
       "      <td>Smithsonian Institution, NMNH, Botany</td>\n",
       "      <td>US National Herbarium specimen, barcode 00000162</td>\n",
       "      <td>Specimen/Object</td>\n",
       "      <td>NaN</td>\n",
       "      <td>http://n2t.net/ark:/65665/m37df7ca9f-c121-4c3e...</td>\n",
       "      <td>tiff, jpeg, jpeg, jpeg, jpeg, jpeg</td>\n",
       "      <td>3876.0</td>\n",
       "      <td>4968.0</td>\n",
       "      <td>8.0</td>\n",
       "    </tr>\n",
       "    <tr>\n",
       "      <th>2</th>\n",
       "      <td>00000185</td>\n",
       "      <td>stained</td>\n",
       "      <td>http://n2t.net/ark:/65665/3dcdf7935-e858-4580-...</td>\n",
       "      <td>http://collections.nmnh.si.edu/media/index.php...</td>\n",
       "      <td>image</td>\n",
       "      <td>00000185.tif</td>\n",
       "      <td>CC0</td>\n",
       "      <td>CC0</td>\n",
       "      <td>https://creativecommons.org/publicdomain/zero/...</td>\n",
       "      <td>https://naturalhistory.si.edu/research/nmnh-co...</td>\n",
       "      <td>...</td>\n",
       "      <td>Ingrid P. Lin</td>\n",
       "      <td>Smithsonian Institution, NMNH, Botany</td>\n",
       "      <td>US National Herbarium specimen, barcode 00000185</td>\n",
       "      <td>Specimen/Object</td>\n",
       "      <td>NaN</td>\n",
       "      <td>http://n2t.net/ark:/65665/m3c809b3ca-2e52-48a2...</td>\n",
       "      <td>tiff, jpeg, jpeg, jpeg, jpeg, jpeg</td>\n",
       "      <td>7319.0</td>\n",
       "      <td>10319.0</td>\n",
       "      <td>8.0</td>\n",
       "    </tr>\n",
       "    <tr>\n",
       "      <th>5</th>\n",
       "      <td>00000231</td>\n",
       "      <td>stained</td>\n",
       "      <td>http://n2t.net/ark:/65665/3d1856a3b-d09a-4ad9-...</td>\n",
       "      <td>http://collections.nmnh.si.edu/media/index.php...</td>\n",
       "      <td>image</td>\n",
       "      <td>00000231.tif</td>\n",
       "      <td>CC0</td>\n",
       "      <td>CC0</td>\n",
       "      <td>https://creativecommons.org/publicdomain/zero/...</td>\n",
       "      <td>https://naturalhistory.si.edu/research/nmnh-co...</td>\n",
       "      <td>...</td>\n",
       "      <td>Ingrid P. Lin</td>\n",
       "      <td>Smithsonian Institution, NMNH, Botany</td>\n",
       "      <td>US National Herbarium specimen, barcode 00000231</td>\n",
       "      <td>Specimen/Object</td>\n",
       "      <td>NaN</td>\n",
       "      <td>http://n2t.net/ark:/65665/m329973bc2-3529-4f95...</td>\n",
       "      <td>tiff, jpeg, jpeg, jpeg, jpeg, jpeg</td>\n",
       "      <td>3732.0</td>\n",
       "      <td>4892.0</td>\n",
       "      <td>8.0</td>\n",
       "    </tr>\n",
       "    <tr>\n",
       "      <th>6</th>\n",
       "      <td>00000232</td>\n",
       "      <td>stained</td>\n",
       "      <td>http://n2t.net/ark:/65665/3652daf45-abaa-4f26-...</td>\n",
       "      <td>http://collections.nmnh.si.edu/media/index.php...</td>\n",
       "      <td>image</td>\n",
       "      <td>00000232.tif</td>\n",
       "      <td>CC0</td>\n",
       "      <td>CC0</td>\n",
       "      <td>https://creativecommons.org/publicdomain/zero/...</td>\n",
       "      <td>https://naturalhistory.si.edu/research/nmnh-co...</td>\n",
       "      <td>...</td>\n",
       "      <td>Ingrid P. Lin</td>\n",
       "      <td>Smithsonian Institution, NMNH, Botany</td>\n",
       "      <td>US National Herbarium specimen, barcode 00000232</td>\n",
       "      <td>Specimen/Object</td>\n",
       "      <td>NaN</td>\n",
       "      <td>http://n2t.net/ark:/65665/m387dc9ab2-cba2-4ba6...</td>\n",
       "      <td>tiff, jpeg, jpeg, jpeg, jpeg, jpeg</td>\n",
       "      <td>3668.0</td>\n",
       "      <td>4868.0</td>\n",
       "      <td>8.0</td>\n",
       "    </tr>\n",
       "  </tbody>\n",
       "</table>\n",
       "<p>5 rows × 22 columns</p>\n",
       "</div>"
      ],
      "text/plain": [
       "    barcode stain_status                                                 id  \\\n",
       "0  00000140      stained  http://n2t.net/ark:/65665/3b487a6b2-3b6f-4b94-...   \n",
       "1  00000162      stained  http://n2t.net/ark:/65665/344cc518e-410d-47d3-...   \n",
       "2  00000185      stained  http://n2t.net/ark:/65665/3dcdf7935-e858-4580-...   \n",
       "5  00000231      stained  http://n2t.net/ark:/65665/3d1856a3b-d09a-4ad9-...   \n",
       "6  00000232      stained  http://n2t.net/ark:/65665/3652daf45-abaa-4f26-...   \n",
       "\n",
       "                                          identifier   type         title  \\\n",
       "0  http://collections.nmnh.si.edu/media/index.php...  image  00000140.tif   \n",
       "1  http://collections.nmnh.si.edu/media/index.php...  image  00000162.tif   \n",
       "2  http://collections.nmnh.si.edu/media/index.php...  image  00000185.tif   \n",
       "5  http://collections.nmnh.si.edu/media/index.php...  image  00000231.tif   \n",
       "6  http://collections.nmnh.si.edu/media/index.php...  image  00000232.tif   \n",
       "\n",
       "  rights rights.1                                         UsageTerms  \\\n",
       "0    CC0      CC0  https://creativecommons.org/publicdomain/zero/...   \n",
       "1    CC0      CC0  https://creativecommons.org/publicdomain/zero/...   \n",
       "2    CC0      CC0  https://creativecommons.org/publicdomain/zero/...   \n",
       "5    CC0      CC0  https://creativecommons.org/publicdomain/zero/...   \n",
       "6    CC0      CC0  https://creativecommons.org/publicdomain/zero/...   \n",
       "\n",
       "                                        WebStatement  ...        creator  \\\n",
       "0  https://naturalhistory.si.edu/research/nmnh-co...  ...  Ingrid P. Lin   \n",
       "1  https://naturalhistory.si.edu/research/nmnh-co...  ...  Ingrid P. Lin   \n",
       "2  https://naturalhistory.si.edu/research/nmnh-co...  ...  Ingrid P. Lin   \n",
       "5  https://naturalhistory.si.edu/research/nmnh-co...  ...  Ingrid P. Lin   \n",
       "6  https://naturalhistory.si.edu/research/nmnh-co...  ...  Ingrid P. Lin   \n",
       "\n",
       "                         providerLiteral  \\\n",
       "0  Smithsonian Institution, NMNH, Botany   \n",
       "1  Smithsonian Institution, NMNH, Botany   \n",
       "2  Smithsonian Institution, NMNH, Botany   \n",
       "5  Smithsonian Institution, NMNH, Botany   \n",
       "6  Smithsonian Institution, NMNH, Botany   \n",
       "\n",
       "                                        description subjectCategoryVocabulary  \\\n",
       "0  US National Herbarium specimen, barcode 00000140           Specimen/Object   \n",
       "1  US National Herbarium specimen, barcode 00000162           Specimen/Object   \n",
       "2  US National Herbarium specimen, barcode 00000185           Specimen/Object   \n",
       "5  US National Herbarium specimen, barcode 00000231           Specimen/Object   \n",
       "6  US National Herbarium specimen, barcode 00000232           Specimen/Object   \n",
       "\n",
       "  scientificName                                          accessURI  \\\n",
       "0            NaN  http://n2t.net/ark:/65665/m36e1bbdd7-8c33-4a87...   \n",
       "1            NaN  http://n2t.net/ark:/65665/m37df7ca9f-c121-4c3e...   \n",
       "2            NaN  http://n2t.net/ark:/65665/m3c809b3ca-2e52-48a2...   \n",
       "5            NaN  http://n2t.net/ark:/65665/m329973bc2-3529-4f95...   \n",
       "6            NaN  http://n2t.net/ark:/65665/m387dc9ab2-cba2-4ba6...   \n",
       "\n",
       "                               format PixelXDimension PixelYDimension  \\\n",
       "0  tiff, jpeg, jpeg, jpeg, jpeg, jpeg          7319.0         10319.0   \n",
       "1  tiff, jpeg, jpeg, jpeg, jpeg, jpeg          3876.0          4968.0   \n",
       "2  tiff, jpeg, jpeg, jpeg, jpeg, jpeg          7319.0         10319.0   \n",
       "5  tiff, jpeg, jpeg, jpeg, jpeg, jpeg          3732.0          4892.0   \n",
       "6  tiff, jpeg, jpeg, jpeg, jpeg, jpeg          3668.0          4868.0   \n",
       "\n",
       "   barcode_len  \n",
       "0          8.0  \n",
       "1          8.0  \n",
       "2          8.0  \n",
       "5          8.0  \n",
       "6          8.0  \n",
       "\n",
       "[5 rows x 22 columns]"
      ]
     },
     "execution_count": 28,
     "metadata": {},
     "output_type": "execute_result"
    }
   ],
   "source": [
    "single_oa = single_sheets[single_sheets['rights'] == 'CC0']\n",
    "single_oa.head()"
   ]
  },
  {
   "cell_type": "code",
   "execution_count": 29,
   "metadata": {
    "ExecuteTime": {
     "end_time": "2020-09-30T12:24:43.503425Z",
     "start_time": "2020-09-30T12:24:43.470438Z"
    }
   },
   "outputs": [
    {
     "data": {
      "text/html": [
       "<div>\n",
       "<style scoped>\n",
       "    .dataframe tbody tr th:only-of-type {\n",
       "        vertical-align: middle;\n",
       "    }\n",
       "\n",
       "    .dataframe tbody tr th {\n",
       "        vertical-align: top;\n",
       "    }\n",
       "\n",
       "    .dataframe thead th {\n",
       "        text-align: right;\n",
       "    }\n",
       "</style>\n",
       "<table border=\"1\" class=\"dataframe\">\n",
       "  <thead>\n",
       "    <tr style=\"text-align: right;\">\n",
       "      <th></th>\n",
       "      <th>barcode</th>\n",
       "      <th>stain_status</th>\n",
       "      <th>id</th>\n",
       "      <th>accessURI</th>\n",
       "    </tr>\n",
       "  </thead>\n",
       "  <tbody>\n",
       "    <tr>\n",
       "      <th>0</th>\n",
       "      <td>00000140</td>\n",
       "      <td>stained</td>\n",
       "      <td>http://n2t.net/ark:/65665/3b487a6b2-3b6f-4b94-...</td>\n",
       "      <td>http://n2t.net/ark:/65665/m36e1bbdd7-8c33-4a87...</td>\n",
       "    </tr>\n",
       "    <tr>\n",
       "      <th>1</th>\n",
       "      <td>00000162</td>\n",
       "      <td>stained</td>\n",
       "      <td>http://n2t.net/ark:/65665/344cc518e-410d-47d3-...</td>\n",
       "      <td>http://n2t.net/ark:/65665/m37df7ca9f-c121-4c3e...</td>\n",
       "    </tr>\n",
       "    <tr>\n",
       "      <th>2</th>\n",
       "      <td>00000185</td>\n",
       "      <td>stained</td>\n",
       "      <td>http://n2t.net/ark:/65665/3dcdf7935-e858-4580-...</td>\n",
       "      <td>http://n2t.net/ark:/65665/m3c809b3ca-2e52-48a2...</td>\n",
       "    </tr>\n",
       "    <tr>\n",
       "      <th>5</th>\n",
       "      <td>00000231</td>\n",
       "      <td>stained</td>\n",
       "      <td>http://n2t.net/ark:/65665/3d1856a3b-d09a-4ad9-...</td>\n",
       "      <td>http://n2t.net/ark:/65665/m329973bc2-3529-4f95...</td>\n",
       "    </tr>\n",
       "    <tr>\n",
       "      <th>6</th>\n",
       "      <td>00000232</td>\n",
       "      <td>stained</td>\n",
       "      <td>http://n2t.net/ark:/65665/3652daf45-abaa-4f26-...</td>\n",
       "      <td>http://n2t.net/ark:/65665/m387dc9ab2-cba2-4ba6...</td>\n",
       "    </tr>\n",
       "  </tbody>\n",
       "</table>\n",
       "</div>"
      ],
      "text/plain": [
       "    barcode stain_status                                                 id  \\\n",
       "0  00000140      stained  http://n2t.net/ark:/65665/3b487a6b2-3b6f-4b94-...   \n",
       "1  00000162      stained  http://n2t.net/ark:/65665/344cc518e-410d-47d3-...   \n",
       "2  00000185      stained  http://n2t.net/ark:/65665/3dcdf7935-e858-4580-...   \n",
       "5  00000231      stained  http://n2t.net/ark:/65665/3d1856a3b-d09a-4ad9-...   \n",
       "6  00000232      stained  http://n2t.net/ark:/65665/3652daf45-abaa-4f26-...   \n",
       "\n",
       "                                           accessURI  \n",
       "0  http://n2t.net/ark:/65665/m36e1bbdd7-8c33-4a87...  \n",
       "1  http://n2t.net/ark:/65665/m37df7ca9f-c121-4c3e...  \n",
       "2  http://n2t.net/ark:/65665/m3c809b3ca-2e52-48a2...  \n",
       "5  http://n2t.net/ark:/65665/m329973bc2-3529-4f95...  \n",
       "6  http://n2t.net/ark:/65665/m387dc9ab2-cba2-4ba6...  "
      ]
     },
     "execution_count": 29,
     "metadata": {},
     "output_type": "execute_result"
    }
   ],
   "source": [
    "cols_to_keep = ['barcode','stain_status','id','accessURI']\n",
    "single_oa = single_oa[cols_to_keep]\n",
    "single_oa.head()"
   ]
  },
  {
   "cell_type": "code",
   "execution_count": 40,
   "metadata": {
    "ExecuteTime": {
     "end_time": "2020-09-30T12:39:54.159369Z",
     "start_time": "2020-09-30T12:37:56.047514Z"
    }
   },
   "outputs": [
    {
     "name": "stdout",
     "output_type": "stream",
     "text": [
      "<class 'pandas.core.frame.DataFrame'>\n",
      "RangeIndex: 8484939 entries, 0 to 8484938\n",
      "Data columns (total 14 columns):\n",
      " #   Column             Dtype   \n",
      "---  ------             -----   \n",
      " 0   id                 object  \n",
      " 1   institutionCode    category\n",
      " 2   catalogNumber      object  \n",
      " 3   recordedBy         category\n",
      " 4   year               category\n",
      " 5   month              category\n",
      " 6   day                category\n",
      " 7   verbatimEventDate  object  \n",
      " 8   country            category\n",
      " 9   stateProvince      category\n",
      " 10  county             category\n",
      " 11  locality           object  \n",
      " 12  identifiedBy       category\n",
      " 13  scientificName     category\n",
      "dtypes: category(10), object(4)\n",
      "memory usage: 463.3+ MB\n"
     ]
    }
   ],
   "source": [
    "specimen_cols = ['id','institutionCode','catalogNumber',\n",
    "                 'recordedBy','identifiedBy',\n",
    "                 'year','month','day','verbatimEventDate',\n",
    "                 'country','stateProvince','county','locality',\n",
    "                 'scientificName']\n",
    "specimen_dtypes={'institutionCode':'category',\n",
    "                  'recordedBy':'category',\n",
    "                  'identifiedBy':'category',\n",
    "                  'year':'category',\n",
    "                  'month':'category',\n",
    "                  'day':'category',\n",
    "                  'country':'category',\n",
    "                  'stateProvince':'category',\n",
    "                  'county':'category',\n",
    "                  'scientificName':'category'}\n",
    "specimen_df = pd.read_csv('nmnh_occurrence_1_35.tsv.gz',\n",
    "                          usecols=specimen_cols,\n",
    "                          dtype=specimen_dtypes,\n",
    "                            sep='\\t', compression='gzip')\n",
    "specimen_df.info()"
   ]
  },
  {
   "cell_type": "code",
   "execution_count": 42,
   "metadata": {
    "ExecuteTime": {
     "end_time": "2020-09-30T12:41:56.963291Z",
     "start_time": "2020-09-30T12:41:45.409055Z"
    }
   },
   "outputs": [
    {
     "name": "stdout",
     "output_type": "stream",
     "text": [
      "<class 'pandas.core.frame.DataFrame'>\n",
      "Int64Index: 11230 entries, 0 to 11229\n",
      "Data columns (total 17 columns):\n",
      " #   Column             Non-Null Count  Dtype   \n",
      "---  ------             --------------  -----   \n",
      " 0   barcode            11230 non-null  object  \n",
      " 1   stain_status       11230 non-null  object  \n",
      " 2   id                 11230 non-null  object  \n",
      " 3   accessURI          11230 non-null  object  \n",
      " 4   institutionCode    11227 non-null  category\n",
      " 5   catalogNumber      11181 non-null  object  \n",
      " 6   recordedBy         11227 non-null  category\n",
      " 7   year               9866 non-null   category\n",
      " 8   month              7281 non-null   category\n",
      " 9   day                4726 non-null   category\n",
      " 10  verbatimEventDate  10351 non-null  object  \n",
      " 11  country            11223 non-null  category\n",
      " 12  stateProvince      8204 non-null   category\n",
      " 13  county             1729 non-null   category\n",
      " 14  locality           8964 non-null   object  \n",
      " 15  identifiedBy       386 non-null    category\n",
      " 16  scientificName     11227 non-null  category\n",
      "dtypes: category(10), object(7)\n",
      "memory usage: 35.3+ MB\n"
     ]
    }
   ],
   "source": [
    "single_oa_merged = single_oa.merge(specimen_df, on='id', how='left')\n",
    "single_oa_merged.info()"
   ]
  },
  {
   "cell_type": "markdown",
   "metadata": {},
   "source": [
    "Weird, 3 specimen ids from the multimedia_df weren't matched in the specimen_df. The ark ids do resolve to a specimen page, so this is especially strange."
   ]
  },
  {
   "cell_type": "code",
   "execution_count": 45,
   "metadata": {
    "ExecuteTime": {
     "end_time": "2020-09-30T12:50:11.830572Z",
     "start_time": "2020-09-30T12:50:11.797926Z"
    }
   },
   "outputs": [
    {
     "data": {
      "text/plain": [
       "[{'barcode': '00588658',\n",
       "  'id': 'http://n2t.net/ark:/65665/3e6279d93-50bd-4e4f-862e-890302d76274',\n",
       "  'accessURI': 'http://n2t.net/ark:/65665/m374271295-f593-4887-98dc-aa97d14578c5'},\n",
       " {'barcode': '00323691',\n",
       "  'id': 'http://n2t.net/ark:/65665/3129c61ba-c8e0-473a-81d5-01ed98cd2072',\n",
       "  'accessURI': 'http://n2t.net/ark:/65665/m3c29e056f-5865-41dd-ab4e-15b23e8ef6af'},\n",
       " {'barcode': '01101316',\n",
       "  'id': 'http://n2t.net/ark:/65665/35642686e-0f48-41b8-8cc4-7bf07246d090',\n",
       "  'accessURI': 'http://n2t.net/ark:/65665/m3330aabad-b4f6-4c22-a57b-7d6eb1bde76a'}]"
      ]
     },
     "execution_count": 45,
     "metadata": {},
     "output_type": "execute_result"
    }
   ],
   "source": [
    "single_oa_merged[pd.isnull(single_oa_merged['institutionCode'])][['barcode','id','accessURI']].to_dict(orient='records')"
   ]
  },
  {
   "cell_type": "code",
   "execution_count": 46,
   "metadata": {
    "ExecuteTime": {
     "end_time": "2020-09-30T12:52:35.075532Z",
     "start_time": "2020-09-30T12:52:34.657790Z"
    }
   },
   "outputs": [],
   "source": [
    "single_oa_merged.to_csv('mercury_specimen_data.tsv', sep='\\t', index=False)"
   ]
  },
  {
   "cell_type": "code",
   "execution_count": null,
   "metadata": {},
   "outputs": [],
   "source": []
  }
 ],
 "metadata": {
  "kernelspec": {
   "display_name": "Python [conda env:siopenaccess]",
   "language": "python",
   "name": "conda-env-siopenaccess-py"
  },
  "language_info": {
   "codemirror_mode": {
    "name": "ipython",
    "version": 3
   },
   "file_extension": ".py",
   "mimetype": "text/x-python",
   "name": "python",
   "nbconvert_exporter": "python",
   "pygments_lexer": "ipython3",
   "version": "3.8.4"
  }
 },
 "nbformat": 4,
 "nbformat_minor": 4
}
